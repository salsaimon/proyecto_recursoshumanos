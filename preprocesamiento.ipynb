{
  "nbformat": 4,
  "nbformat_minor": 0,
  "metadata": {
    "colab": {
      "provenance": [],
      "include_colab_link": true
    },
    "kernelspec": {
      "name": "python3",
      "display_name": "Python 3"
    },
    "language_info": {
      "name": "python"
    }
  },
  "cells": [
    {
      "cell_type": "markdown",
      "metadata": {
        "id": "view-in-github",
        "colab_type": "text"
      },
      "source": [
        "<a href=\"https://colab.research.google.com/github/salsaimon/proyect_analitica_win/blob/main/preprocesamiento.ipynb\" target=\"_parent\"><img src=\"https://colab.research.google.com/assets/colab-badge.svg\" alt=\"Open In Colab\"/></a>"
      ]
    },
    {
      "cell_type": "code",
      "source": [
        "from google.colab import drive\n",
        "drive.mount('/content/drive')"
      ],
      "metadata": {
        "colab": {
          "base_uri": "https://localhost:8080/"
        },
        "id": "ug-eQsg8xHMx",
        "outputId": "2ee90505-5e94-4467-f1d7-145f7fd191a5"
      },
      "execution_count": 11,
      "outputs": [
        {
          "output_type": "stream",
          "name": "stdout",
          "text": [
            "Drive already mounted at /content/drive; to attempt to forcibly remount, call drive.mount(\"/content/drive\", force_remount=True).\n"
          ]
        }
      ]
    },
    {
      "cell_type": "code",
      "execution_count": 12,
      "metadata": {
        "id": "vHDwJl_jvlgO"
      },
      "outputs": [],
      "source": [
        "\n",
        "import sys\n",
        "import os\n",
        "\n",
        "path='/content/drive/MyDrive/analitica3win/proyect_analitica_win'\n",
        "\n",
        "os.chdir(path) ### setting a Working directory on drive path\n",
        "sys.path.append(path+'/')  ###setting path to read user defined functions"
      ]
    },
    {
      "cell_type": "code",
      "source": [
        "con=sql.connect('base.db')  ### crea base de datos\n",
        "cur=con.cursor()  ### para ejecutar consultas en la base de datos"
      ],
      "metadata": {
        "id": "aOOJKFzvm07G"
      },
      "execution_count": 13,
      "outputs": []
    },
    {
      "cell_type": "code",
      "source": [
        "\n",
        "#### Cargar paquetes siempre al inicio\n",
        "import pandas as pd ### para manejo de datos\n",
        "import sqlite3 as sql #### para bases de datos sql\n",
        "import a_funciones as funciones  ###archivo de funciones propias\n",
        "import sys ## saber ruta de la que carga paquetes"
      ],
      "metadata": {
        "id": "rF5axfpLmW4c"
      },
      "execution_count": 14,
      "outputs": []
    },
    {
      "cell_type": "code",
      "source": [
        "####################################################################################################################\n",
        "########################  1. Comprender y limpiar datos ##################################################################\n",
        "####################################################################################################################\n",
        "########   Verificar lectura correcta de los datos\n",
        "########   Verificar Datos faltantes (eliminar variables si es necesario) (la imputación está la parte de modelado)\n",
        "########   Tipos de variables (categoricas/numéricas/fechas)\n",
        "########   Niveles en categorícas\n",
        "########   Observaciones por categoría\n",
        "########   Datos atípicos en numéricas"
      ],
      "metadata": {
        "id": "q0UYqfk1mg6b"
      },
      "execution_count": 9,
      "outputs": []
    },
    {
      "cell_type": "code",
      "source": [
        "##leer bases de datos\n",
        "\n",
        "retiros=pd.read_csv('data/retirement_info.csv')\n",
        "general=pd.read_csv('data/general_data.csv')\n",
        "employee_survey=pd.read_csv('data/employee_survey_data.csv')\n",
        "manager_survey=pd.read_csv('data/manager_survey.csv')\n",
        "\n",
        "#crear df para cada base\n",
        "df_retiros= retiros\n",
        "df_general= general\n",
        "df_employee= employee_survey\n",
        "df_manager= manager_survey\n",
        "\n",
        "###### Verificar lectura correcta de los datos\n",
        "df_retiros.sort_values(by=['EmployeeID'],ascending=1).head(100)\n",
        "df_general.sort_values(by=['EmployeeID'],ascending=1).head(100)\n",
        "df_employee.sort_values(by=['EmployeeID'],ascending=1).head(100)\n",
        "df_manager.sort_values(by=['EmployeeID'],ascending=1).head(100)\n"
      ],
      "metadata": {
        "colab": {
          "base_uri": "https://localhost:8080/",
          "height": 423
        },
        "id": "9R7rpWMzmiSx",
        "outputId": "88000c6f-d141-4d97-a6ee-5eacf84320b3"
      },
      "execution_count": 28,
      "outputs": [
        {
          "output_type": "execute_result",
          "data": {
            "text/plain": [
              "      EmployeeID  JobInvolvement  PerformanceRating  SurveyDate\n",
              "0              1               3                  3  2015-12-31\n",
              "4410           1               3                  3  2016-12-31\n",
              "1              2               2                  4  2015-12-31\n",
              "2              3               3                  3  2015-12-31\n",
              "4412           3               3                  3  2016-12-31\n",
              "...          ...             ...                ...         ...\n",
              "4461          52               2                  3  2016-12-31\n",
              "51            52               2                  3  2015-12-31\n",
              "4462          53               3                  4  2016-12-31\n",
              "52            53               3                  4  2015-12-31\n",
              "53            54               3                  3  2015-12-31\n",
              "\n",
              "[100 rows x 4 columns]"
            ],
            "text/html": [
              "\n",
              "  <div id=\"df-2912152f-9eb5-46f0-bdb4-575b46a8f249\" class=\"colab-df-container\">\n",
              "    <div>\n",
              "<style scoped>\n",
              "    .dataframe tbody tr th:only-of-type {\n",
              "        vertical-align: middle;\n",
              "    }\n",
              "\n",
              "    .dataframe tbody tr th {\n",
              "        vertical-align: top;\n",
              "    }\n",
              "\n",
              "    .dataframe thead th {\n",
              "        text-align: right;\n",
              "    }\n",
              "</style>\n",
              "<table border=\"1\" class=\"dataframe\">\n",
              "  <thead>\n",
              "    <tr style=\"text-align: right;\">\n",
              "      <th></th>\n",
              "      <th>EmployeeID</th>\n",
              "      <th>JobInvolvement</th>\n",
              "      <th>PerformanceRating</th>\n",
              "      <th>SurveyDate</th>\n",
              "    </tr>\n",
              "  </thead>\n",
              "  <tbody>\n",
              "    <tr>\n",
              "      <th>0</th>\n",
              "      <td>1</td>\n",
              "      <td>3</td>\n",
              "      <td>3</td>\n",
              "      <td>2015-12-31</td>\n",
              "    </tr>\n",
              "    <tr>\n",
              "      <th>4410</th>\n",
              "      <td>1</td>\n",
              "      <td>3</td>\n",
              "      <td>3</td>\n",
              "      <td>2016-12-31</td>\n",
              "    </tr>\n",
              "    <tr>\n",
              "      <th>1</th>\n",
              "      <td>2</td>\n",
              "      <td>2</td>\n",
              "      <td>4</td>\n",
              "      <td>2015-12-31</td>\n",
              "    </tr>\n",
              "    <tr>\n",
              "      <th>2</th>\n",
              "      <td>3</td>\n",
              "      <td>3</td>\n",
              "      <td>3</td>\n",
              "      <td>2015-12-31</td>\n",
              "    </tr>\n",
              "    <tr>\n",
              "      <th>4412</th>\n",
              "      <td>3</td>\n",
              "      <td>3</td>\n",
              "      <td>3</td>\n",
              "      <td>2016-12-31</td>\n",
              "    </tr>\n",
              "    <tr>\n",
              "      <th>...</th>\n",
              "      <td>...</td>\n",
              "      <td>...</td>\n",
              "      <td>...</td>\n",
              "      <td>...</td>\n",
              "    </tr>\n",
              "    <tr>\n",
              "      <th>4461</th>\n",
              "      <td>52</td>\n",
              "      <td>2</td>\n",
              "      <td>3</td>\n",
              "      <td>2016-12-31</td>\n",
              "    </tr>\n",
              "    <tr>\n",
              "      <th>51</th>\n",
              "      <td>52</td>\n",
              "      <td>2</td>\n",
              "      <td>3</td>\n",
              "      <td>2015-12-31</td>\n",
              "    </tr>\n",
              "    <tr>\n",
              "      <th>4462</th>\n",
              "      <td>53</td>\n",
              "      <td>3</td>\n",
              "      <td>4</td>\n",
              "      <td>2016-12-31</td>\n",
              "    </tr>\n",
              "    <tr>\n",
              "      <th>52</th>\n",
              "      <td>53</td>\n",
              "      <td>3</td>\n",
              "      <td>4</td>\n",
              "      <td>2015-12-31</td>\n",
              "    </tr>\n",
              "    <tr>\n",
              "      <th>53</th>\n",
              "      <td>54</td>\n",
              "      <td>3</td>\n",
              "      <td>3</td>\n",
              "      <td>2015-12-31</td>\n",
              "    </tr>\n",
              "  </tbody>\n",
              "</table>\n",
              "<p>100 rows × 4 columns</p>\n",
              "</div>\n",
              "    <div class=\"colab-df-buttons\">\n",
              "\n",
              "  <div class=\"colab-df-container\">\n",
              "    <button class=\"colab-df-convert\" onclick=\"convertToInteractive('df-2912152f-9eb5-46f0-bdb4-575b46a8f249')\"\n",
              "            title=\"Convert this dataframe to an interactive table.\"\n",
              "            style=\"display:none;\">\n",
              "\n",
              "  <svg xmlns=\"http://www.w3.org/2000/svg\" height=\"24px\" viewBox=\"0 -960 960 960\">\n",
              "    <path d=\"M120-120v-720h720v720H120Zm60-500h600v-160H180v160Zm220 220h160v-160H400v160Zm0 220h160v-160H400v160ZM180-400h160v-160H180v160Zm440 0h160v-160H620v160ZM180-180h160v-160H180v160Zm440 0h160v-160H620v160Z\"/>\n",
              "  </svg>\n",
              "    </button>\n",
              "\n",
              "  <style>\n",
              "    .colab-df-container {\n",
              "      display:flex;\n",
              "      gap: 12px;\n",
              "    }\n",
              "\n",
              "    .colab-df-convert {\n",
              "      background-color: #E8F0FE;\n",
              "      border: none;\n",
              "      border-radius: 50%;\n",
              "      cursor: pointer;\n",
              "      display: none;\n",
              "      fill: #1967D2;\n",
              "      height: 32px;\n",
              "      padding: 0 0 0 0;\n",
              "      width: 32px;\n",
              "    }\n",
              "\n",
              "    .colab-df-convert:hover {\n",
              "      background-color: #E2EBFA;\n",
              "      box-shadow: 0px 1px 2px rgba(60, 64, 67, 0.3), 0px 1px 3px 1px rgba(60, 64, 67, 0.15);\n",
              "      fill: #174EA6;\n",
              "    }\n",
              "\n",
              "    .colab-df-buttons div {\n",
              "      margin-bottom: 4px;\n",
              "    }\n",
              "\n",
              "    [theme=dark] .colab-df-convert {\n",
              "      background-color: #3B4455;\n",
              "      fill: #D2E3FC;\n",
              "    }\n",
              "\n",
              "    [theme=dark] .colab-df-convert:hover {\n",
              "      background-color: #434B5C;\n",
              "      box-shadow: 0px 1px 3px 1px rgba(0, 0, 0, 0.15);\n",
              "      filter: drop-shadow(0px 1px 2px rgba(0, 0, 0, 0.3));\n",
              "      fill: #FFFFFF;\n",
              "    }\n",
              "  </style>\n",
              "\n",
              "    <script>\n",
              "      const buttonEl =\n",
              "        document.querySelector('#df-2912152f-9eb5-46f0-bdb4-575b46a8f249 button.colab-df-convert');\n",
              "      buttonEl.style.display =\n",
              "        google.colab.kernel.accessAllowed ? 'block' : 'none';\n",
              "\n",
              "      async function convertToInteractive(key) {\n",
              "        const element = document.querySelector('#df-2912152f-9eb5-46f0-bdb4-575b46a8f249');\n",
              "        const dataTable =\n",
              "          await google.colab.kernel.invokeFunction('convertToInteractive',\n",
              "                                                    [key], {});\n",
              "        if (!dataTable) return;\n",
              "\n",
              "        const docLinkHtml = 'Like what you see? Visit the ' +\n",
              "          '<a target=\"_blank\" href=https://colab.research.google.com/notebooks/data_table.ipynb>data table notebook</a>'\n",
              "          + ' to learn more about interactive tables.';\n",
              "        element.innerHTML = '';\n",
              "        dataTable['output_type'] = 'display_data';\n",
              "        await google.colab.output.renderOutput(dataTable, element);\n",
              "        const docLink = document.createElement('div');\n",
              "        docLink.innerHTML = docLinkHtml;\n",
              "        element.appendChild(docLink);\n",
              "      }\n",
              "    </script>\n",
              "  </div>\n",
              "\n",
              "\n",
              "<div id=\"df-61e7a82a-fd2a-4e42-abe3-64d75aadf962\">\n",
              "  <button class=\"colab-df-quickchart\" onclick=\"quickchart('df-61e7a82a-fd2a-4e42-abe3-64d75aadf962')\"\n",
              "            title=\"Suggest charts\"\n",
              "            style=\"display:none;\">\n",
              "\n",
              "<svg xmlns=\"http://www.w3.org/2000/svg\" height=\"24px\"viewBox=\"0 0 24 24\"\n",
              "     width=\"24px\">\n",
              "    <g>\n",
              "        <path d=\"M19 3H5c-1.1 0-2 .9-2 2v14c0 1.1.9 2 2 2h14c1.1 0 2-.9 2-2V5c0-1.1-.9-2-2-2zM9 17H7v-7h2v7zm4 0h-2V7h2v10zm4 0h-2v-4h2v4z\"/>\n",
              "    </g>\n",
              "</svg>\n",
              "  </button>\n",
              "\n",
              "<style>\n",
              "  .colab-df-quickchart {\n",
              "      --bg-color: #E8F0FE;\n",
              "      --fill-color: #1967D2;\n",
              "      --hover-bg-color: #E2EBFA;\n",
              "      --hover-fill-color: #174EA6;\n",
              "      --disabled-fill-color: #AAA;\n",
              "      --disabled-bg-color: #DDD;\n",
              "  }\n",
              "\n",
              "  [theme=dark] .colab-df-quickchart {\n",
              "      --bg-color: #3B4455;\n",
              "      --fill-color: #D2E3FC;\n",
              "      --hover-bg-color: #434B5C;\n",
              "      --hover-fill-color: #FFFFFF;\n",
              "      --disabled-bg-color: #3B4455;\n",
              "      --disabled-fill-color: #666;\n",
              "  }\n",
              "\n",
              "  .colab-df-quickchart {\n",
              "    background-color: var(--bg-color);\n",
              "    border: none;\n",
              "    border-radius: 50%;\n",
              "    cursor: pointer;\n",
              "    display: none;\n",
              "    fill: var(--fill-color);\n",
              "    height: 32px;\n",
              "    padding: 0;\n",
              "    width: 32px;\n",
              "  }\n",
              "\n",
              "  .colab-df-quickchart:hover {\n",
              "    background-color: var(--hover-bg-color);\n",
              "    box-shadow: 0 1px 2px rgba(60, 64, 67, 0.3), 0 1px 3px 1px rgba(60, 64, 67, 0.15);\n",
              "    fill: var(--button-hover-fill-color);\n",
              "  }\n",
              "\n",
              "  .colab-df-quickchart-complete:disabled,\n",
              "  .colab-df-quickchart-complete:disabled:hover {\n",
              "    background-color: var(--disabled-bg-color);\n",
              "    fill: var(--disabled-fill-color);\n",
              "    box-shadow: none;\n",
              "  }\n",
              "\n",
              "  .colab-df-spinner {\n",
              "    border: 2px solid var(--fill-color);\n",
              "    border-color: transparent;\n",
              "    border-bottom-color: var(--fill-color);\n",
              "    animation:\n",
              "      spin 1s steps(1) infinite;\n",
              "  }\n",
              "\n",
              "  @keyframes spin {\n",
              "    0% {\n",
              "      border-color: transparent;\n",
              "      border-bottom-color: var(--fill-color);\n",
              "      border-left-color: var(--fill-color);\n",
              "    }\n",
              "    20% {\n",
              "      border-color: transparent;\n",
              "      border-left-color: var(--fill-color);\n",
              "      border-top-color: var(--fill-color);\n",
              "    }\n",
              "    30% {\n",
              "      border-color: transparent;\n",
              "      border-left-color: var(--fill-color);\n",
              "      border-top-color: var(--fill-color);\n",
              "      border-right-color: var(--fill-color);\n",
              "    }\n",
              "    40% {\n",
              "      border-color: transparent;\n",
              "      border-right-color: var(--fill-color);\n",
              "      border-top-color: var(--fill-color);\n",
              "    }\n",
              "    60% {\n",
              "      border-color: transparent;\n",
              "      border-right-color: var(--fill-color);\n",
              "    }\n",
              "    80% {\n",
              "      border-color: transparent;\n",
              "      border-right-color: var(--fill-color);\n",
              "      border-bottom-color: var(--fill-color);\n",
              "    }\n",
              "    90% {\n",
              "      border-color: transparent;\n",
              "      border-bottom-color: var(--fill-color);\n",
              "    }\n",
              "  }\n",
              "</style>\n",
              "\n",
              "  <script>\n",
              "    async function quickchart(key) {\n",
              "      const quickchartButtonEl =\n",
              "        document.querySelector('#' + key + ' button');\n",
              "      quickchartButtonEl.disabled = true;  // To prevent multiple clicks.\n",
              "      quickchartButtonEl.classList.add('colab-df-spinner');\n",
              "      try {\n",
              "        const charts = await google.colab.kernel.invokeFunction(\n",
              "            'suggestCharts', [key], {});\n",
              "      } catch (error) {\n",
              "        console.error('Error during call to suggestCharts:', error);\n",
              "      }\n",
              "      quickchartButtonEl.classList.remove('colab-df-spinner');\n",
              "      quickchartButtonEl.classList.add('colab-df-quickchart-complete');\n",
              "    }\n",
              "    (() => {\n",
              "      let quickchartButtonEl =\n",
              "        document.querySelector('#df-61e7a82a-fd2a-4e42-abe3-64d75aadf962 button');\n",
              "      quickchartButtonEl.style.display =\n",
              "        google.colab.kernel.accessAllowed ? 'block' : 'none';\n",
              "    })();\n",
              "  </script>\n",
              "</div>\n",
              "\n",
              "    </div>\n",
              "  </div>\n"
            ],
            "application/vnd.google.colaboratory.intrinsic+json": {
              "type": "dataframe",
              "summary": "{\n  \"name\": \"df_manager\",\n  \"rows\": 100,\n  \"fields\": [\n    {\n      \"column\": \"EmployeeID\",\n      \"properties\": {\n        \"dtype\": \"number\",\n        \"std\": 15,\n        \"min\": 1,\n        \"max\": 54,\n        \"num_unique_values\": 54,\n        \"samples\": [\n          20,\n          50,\n          49\n        ],\n        \"semantic_type\": \"\",\n        \"description\": \"\"\n      }\n    },\n    {\n      \"column\": \"JobInvolvement\",\n      \"properties\": {\n        \"dtype\": \"number\",\n        \"std\": 0,\n        \"min\": 1,\n        \"max\": 3,\n        \"num_unique_values\": 3,\n        \"samples\": [\n          3,\n          2,\n          1\n        ],\n        \"semantic_type\": \"\",\n        \"description\": \"\"\n      }\n    },\n    {\n      \"column\": \"PerformanceRating\",\n      \"properties\": {\n        \"dtype\": \"number\",\n        \"std\": 0,\n        \"min\": 3,\n        \"max\": 4,\n        \"num_unique_values\": 2,\n        \"samples\": [\n          4,\n          3\n        ],\n        \"semantic_type\": \"\",\n        \"description\": \"\"\n      }\n    },\n    {\n      \"column\": \"SurveyDate\",\n      \"properties\": {\n        \"dtype\": \"object\",\n        \"num_unique_values\": 2,\n        \"samples\": [\n          \"2016-12-31\",\n          \"2015-12-31\"\n        ],\n        \"semantic_type\": \"\",\n        \"description\": \"\"\n      }\n    }\n  ]\n}"
            }
          },
          "metadata": {},
          "execution_count": 28
        }
      ]
    },
    {
      "cell_type": "code",
      "source": [
        "\n",
        "##### resumen con información tablas faltantes y tipos de variables y hacer correcciones\n",
        "df_retiros.info(verbose=True)\n",
        "df_general.info(verbose=True)\n",
        "df_employee.info(verbose=True)\n",
        "df_manager.info(verbose=True)"
      ],
      "metadata": {
        "colab": {
          "base_uri": "https://localhost:8080/"
        },
        "id": "iAV6Jigxt3Uj",
        "outputId": "7adfccba-7f65-4e7c-b79a-6e25c27f146e"
      },
      "execution_count": 39,
      "outputs": [
        {
          "output_type": "stream",
          "name": "stdout",
          "text": [
            "<class 'pandas.core.frame.DataFrame'>\n",
            "RangeIndex: 711 entries, 0 to 710\n",
            "Data columns (total 5 columns):\n",
            " #   Column             Non-Null Count  Dtype         \n",
            "---  ------             --------------  -----         \n",
            " 0   EmployeeID         711 non-null    int64         \n",
            " 1   Attrition          711 non-null    object        \n",
            " 2   retirementDate     711 non-null    datetime64[ns]\n",
            " 3   retirementType     711 non-null    object        \n",
            " 4   resignationReason  641 non-null    object        \n",
            "dtypes: datetime64[ns](1), int64(1), object(3)\n",
            "memory usage: 27.9+ KB\n",
            "<class 'pandas.core.frame.DataFrame'>\n",
            "RangeIndex: 8820 entries, 0 to 8819\n",
            "Data columns (total 24 columns):\n",
            " #   Column                   Non-Null Count  Dtype         \n",
            "---  ------                   --------------  -----         \n",
            " 0   Age                      8820 non-null   int64         \n",
            " 1   BusinessTravel           8820 non-null   object        \n",
            " 2   Department               8820 non-null   object        \n",
            " 3   DistanceFromHome         8820 non-null   int64         \n",
            " 4   Education                8820 non-null   object        \n",
            " 5   EducationField           8820 non-null   object        \n",
            " 6   EmployeeCount            8820 non-null   int64         \n",
            " 7   EmployeeID               8820 non-null   int64         \n",
            " 8   Gender                   8820 non-null   object        \n",
            " 9   JobLevel                 8820 non-null   object        \n",
            " 10  JobRole                  8820 non-null   object        \n",
            " 11  MaritalStatus            8820 non-null   object        \n",
            " 12  MonthlyIncome            8820 non-null   int64         \n",
            " 13  NumCompaniesWorked       8782 non-null   float64       \n",
            " 14  Over18                   8820 non-null   object        \n",
            " 15  PercentSalaryHike        8820 non-null   int64         \n",
            " 16  StandardHours            8820 non-null   int64         \n",
            " 17  StockOptionLevel         8820 non-null   object        \n",
            " 18  TotalWorkingYears        8802 non-null   float64       \n",
            " 19  TrainingTimesLastYear    8820 non-null   int64         \n",
            " 20  YearsAtCompany           8820 non-null   int64         \n",
            " 21  YearsSinceLastPromotion  8820 non-null   int64         \n",
            " 22  YearsWithCurrManager     8820 non-null   int64         \n",
            " 23  InfoDate                 8820 non-null   datetime64[ns]\n",
            "dtypes: datetime64[ns](1), float64(2), int64(11), object(10)\n",
            "memory usage: 1.6+ MB\n",
            "<class 'pandas.core.frame.DataFrame'>\n",
            "RangeIndex: 8820 entries, 0 to 8819\n",
            "Data columns (total 5 columns):\n",
            " #   Column                   Non-Null Count  Dtype         \n",
            "---  ------                   --------------  -----         \n",
            " 0   EmployeeID               8820 non-null   int64         \n",
            " 1   EnvironmentSatisfaction  8770 non-null   object        \n",
            " 2   JobSatisfaction          8780 non-null   object        \n",
            " 3   WorkLifeBalance          8744 non-null   object        \n",
            " 4   DateSurvey               8820 non-null   datetime64[ns]\n",
            "dtypes: datetime64[ns](1), int64(1), object(3)\n",
            "memory usage: 344.7+ KB\n",
            "<class 'pandas.core.frame.DataFrame'>\n",
            "RangeIndex: 8820 entries, 0 to 8819\n",
            "Data columns (total 4 columns):\n",
            " #   Column             Non-Null Count  Dtype         \n",
            "---  ------             --------------  -----         \n",
            " 0   EmployeeID         8820 non-null   int64         \n",
            " 1   JobInvolvement     8820 non-null   object        \n",
            " 2   PerformanceRating  8820 non-null   object        \n",
            " 3   SurveyDate         8820 non-null   datetime64[ns]\n",
            "dtypes: datetime64[ns](1), int64(1), object(2)\n",
            "memory usage: 275.8+ KB\n"
          ]
        }
      ]
    },
    {
      "cell_type": "code",
      "source": [
        "#### Convertir campos a formato fecha\n",
        "df_retiros[\"retirementDate\"]=pd.to_datetime(df_retiros['retirementDate'], format=\"%d/%m/%Y\")\n",
        "df_general[\"InfoDate\"]=pd.to_datetime(df_general['InfoDate'], format=\"%d/%m/%Y\")\n",
        "df_employee[\"DateSurvey\"]=pd.to_datetime(df_employee['DateSurvey'], format=\"%d/%m/%Y\")\n",
        "df_manager[\"SurveyDate\"]=pd.to_datetime(df_manager['SurveyDate'], format=\"%d/%m/%Y\")"
      ],
      "metadata": {
        "id": "C1FwMMq9t6oA"
      },
      "execution_count": 36,
      "outputs": []
    },
    {
      "cell_type": "code",
      "source": [
        "#### convertir a categórica\n",
        "\n",
        "#general\n",
        "df_general=df_general.astype({'Education': object,'JobLevel': object,'StockOptionLevel': object})\n",
        "#employee\n",
        "df_employee=df_employee.astype({'EnvironmentSatisfaction': object,'JobSatisfaction': object,'WorkLifeBalance': object})\n",
        "#manager\n",
        "df_manager=df_manager.astype({'JobInvolvement': object,'PerformanceRating': object})"
      ],
      "metadata": {
        "id": "SXAqXJKAx9jr"
      },
      "execution_count": 38,
      "outputs": []
    },
    {
      "cell_type": "code",
      "source": [
        "###Eliminar columnas que no se utilicen\n",
        "df_employees=df_employees.drop([\"PayRate\",\"MgrID\",\"RaceID\",\"TermDt\"], axis=1) # PayRate no tiene datos, MgrID no se va a usar es el código del jefe, RaceID se va a usar la descripción\n"
      ],
      "metadata": {
        "id": "misOSE1uxR_t"
      },
      "execution_count": null,
      "outputs": []
    },
    {
      "cell_type": "code",
      "source": [],
      "metadata": {
        "id": "GKHwJBSjt6eI"
      },
      "execution_count": null,
      "outputs": []
    },
    {
      "cell_type": "code",
      "source": [],
      "metadata": {
        "id": "7MCJ8xzNt6X7"
      },
      "execution_count": null,
      "outputs": []
    },
    {
      "cell_type": "code",
      "source": [],
      "metadata": {
        "id": "sdWNjeFSt6OQ"
      },
      "execution_count": null,
      "outputs": []
    },
    {
      "cell_type": "code",
      "source": [
        "print(df_retiros)\n"
      ],
      "metadata": {
        "colab": {
          "base_uri": "https://localhost:8080/"
        },
        "id": "-ULhwbLypLLm",
        "outputId": "8a9032ea-989c-491e-8d31-c046c83e1800"
      },
      "execution_count": 26,
      "outputs": [
        {
          "output_type": "stream",
          "name": "stdout",
          "text": [
            "     EmployeeID Attrition retirementDate retirementType resignationReason\n",
            "0             2       Yes     2016-10-15    Resignation            Others\n",
            "1             7       Yes     2016-07-20    Resignation            Stress\n",
            "2            14       Yes     2016-11-08    Resignation            Others\n",
            "3            29       Yes     2016-10-15    Resignation            Others\n",
            "4            31       Yes     2016-02-08    Resignation            Salary\n",
            "..          ...       ...            ...            ...               ...\n",
            "706        4382       Yes     2015-04-18    Resignation            Salary\n",
            "707        4387       Yes     2015-09-16    Resignation            Others\n",
            "708        4389       Yes     2015-05-24    Resignation            Others\n",
            "709        4392       Yes     2015-02-26          Fired               NaN\n",
            "710        4403       Yes     2015-01-26    Resignation            Stress\n",
            "\n",
            "[711 rows x 5 columns]\n"
          ]
        }
      ]
    },
    {
      "cell_type": "code",
      "source": [
        "retiros.to_sql('retiros',con,index=False, if_exists='replace') ### para llevar un data frame de pandas a SQL\n",
        "general.to_sql('general',con,index=False, if_exists='replace')\n",
        "employee_survey.to_sql('employee_survey',con,index=False, if_exists='replace')\n",
        "manager_survey.to_sql('manager_survey',con,index=False, if_exists='replace')"
      ],
      "metadata": {
        "id": "zrjAunsPnsg-"
      },
      "execution_count": null,
      "outputs": []
    },
    {
      "cell_type": "code",
      "source": [
        "df_retiros=pd.read_csv(retiros)"
      ],
      "metadata": {
        "id": "-2yRITevnIKf"
      },
      "execution_count": null,
      "outputs": []
    }
  ]
}