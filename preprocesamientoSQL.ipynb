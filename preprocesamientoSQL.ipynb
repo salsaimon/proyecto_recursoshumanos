{
  "nbformat": 4,
  "nbformat_minor": 0,
  "metadata": {
    "colab": {
      "provenance": [],
      "authorship_tag": "ABX9TyNIM9eK7KdPIrOURvmO87uw",
      "include_colab_link": true
    },
    "kernelspec": {
      "name": "python3",
      "display_name": "Python 3"
    },
    "language_info": {
      "name": "python"
    }
  },
  "cells": [
    {
      "cell_type": "markdown",
      "metadata": {
        "id": "view-in-github",
        "colab_type": "text"
      },
      "source": [
        "<a href=\"https://colab.research.google.com/github/salsaimon/proyecto_recursoshumanos/blob/main/preprocesamientoSQL.ipynb\" target=\"_parent\"><img src=\"https://colab.research.google.com/assets/colab-badge.svg\" alt=\"Open In Colab\"/></a>"
      ]
    },
    {
      "cell_type": "code",
      "source": [
        "from google.colab import drive\n",
        "drive.mount('/content/drive')"
      ],
      "metadata": {
        "colab": {
          "base_uri": "https://localhost:8080/"
        },
        "id": "IZ37ZA-7Ingx",
        "outputId": "85573264-b7c5-467f-a6db-faac008a7ff2"
      },
      "execution_count": 1,
      "outputs": [
        {
          "output_type": "stream",
          "name": "stdout",
          "text": [
            "Mounted at /content/drive\n"
          ]
        }
      ]
    },
    {
      "cell_type": "code",
      "source": [],
      "metadata": {
        "id": "eeUxSFpkJVyh"
      },
      "execution_count": null,
      "outputs": []
    },
    {
      "cell_type": "code",
      "execution_count": 2,
      "metadata": {
        "colab": {
          "base_uri": "https://localhost:8080/"
        },
        "id": "etpiGTqYIMD4",
        "outputId": "22c51e4d-507b-4e24-c1ab-4a393846dd53"
      },
      "outputs": [
        {
          "output_type": "stream",
          "name": "stdout",
          "text": [
            "Requirement already satisfied: pandas in /usr/local/lib/python3.10/dist-packages (2.1.4)\n",
            "Collecting pandas\n",
            "  Downloading pandas-2.2.2-cp310-cp310-manylinux_2_17_x86_64.manylinux2014_x86_64.whl.metadata (19 kB)\n",
            "Requirement already satisfied: numpy>=1.22.4 in /usr/local/lib/python3.10/dist-packages (from pandas) (1.26.4)\n",
            "Requirement already satisfied: python-dateutil>=2.8.2 in /usr/local/lib/python3.10/dist-packages (from pandas) (2.8.2)\n",
            "Requirement already satisfied: pytz>=2020.1 in /usr/local/lib/python3.10/dist-packages (from pandas) (2024.1)\n",
            "Requirement already satisfied: tzdata>=2022.7 in /usr/local/lib/python3.10/dist-packages (from pandas) (2024.1)\n",
            "Requirement already satisfied: six>=1.5 in /usr/local/lib/python3.10/dist-packages (from python-dateutil>=2.8.2->pandas) (1.16.0)\n",
            "Downloading pandas-2.2.2-cp310-cp310-manylinux_2_17_x86_64.manylinux2014_x86_64.whl (13.0 MB)\n",
            "\u001b[2K   \u001b[90m━━━━━━━━━━━━━━━━━━━━━━━━━━━━━━━━━━━━━━━━\u001b[0m \u001b[32m13.0/13.0 MB\u001b[0m \u001b[31m57.4 MB/s\u001b[0m eta \u001b[36m0:00:00\u001b[0m\n",
            "\u001b[?25hInstalling collected packages: pandas\n",
            "  Attempting uninstall: pandas\n",
            "    Found existing installation: pandas 2.1.4\n",
            "    Uninstalling pandas-2.1.4:\n",
            "      Successfully uninstalled pandas-2.1.4\n",
            "\u001b[31mERROR: pip's dependency resolver does not currently take into account all the packages that are installed. This behaviour is the source of the following dependency conflicts.\n",
            "cudf-cu12 24.4.1 requires pandas<2.2.2dev0,>=2.0, but you have pandas 2.2.2 which is incompatible.\n",
            "google-colab 1.0.0 requires pandas==2.1.4, but you have pandas 2.2.2 which is incompatible.\u001b[0m\u001b[31m\n",
            "\u001b[0mSuccessfully installed pandas-2.2.2\n",
            "\n",
            "Datos de la tabla 'retiros':\n",
            "   index  EmployeeID Attrition       retirementDate retirementType  \\\n",
            "0      0           2       Yes  2016-10-15 00:00:00    Resignation   \n",
            "1      1           7       Yes  2016-07-20 00:00:00    Resignation   \n",
            "2      2          14       Yes  2016-11-08 00:00:00    Resignation   \n",
            "3      3          29       Yes  2016-10-15 00:00:00    Resignation   \n",
            "4      4          31       Yes  2016-02-08 00:00:00    Resignation   \n",
            "\n",
            "  resignationReason  \n",
            "0            Others  \n",
            "1            Stress  \n",
            "2            Others  \n",
            "3            Others  \n",
            "4            Salary  \n",
            "\n",
            "Datos de la tabla 'general':\n",
            "   index  Age     BusinessTravel              Department  DistanceFromHome  \\\n",
            "0      0   51      Travel_Rarely                   Sales                 6   \n",
            "1      1   31  Travel_Frequently  Research & Development                10   \n",
            "2      2   32  Travel_Frequently  Research & Development                17   \n",
            "3      3   38         Non-Travel  Research & Development                 2   \n",
            "4      4   32      Travel_Rarely  Research & Development                10   \n",
            "\n",
            "   Education EducationField  EmployeeCount  EmployeeID  Gender  ...  \\\n",
            "0          2  Life Sciences              1           1  Female  ...   \n",
            "1          1  Life Sciences              1           2  Female  ...   \n",
            "2          4          Other              1           3    Male  ...   \n",
            "3          5  Life Sciences              1           4    Male  ...   \n",
            "4          1        Medical              1           5    Male  ...   \n",
            "\n",
            "   NumCompaniesWorked PercentSalaryHike StandardHours  StockOptionLevel  \\\n",
            "0                 1.0                11             8                 0   \n",
            "1                 0.0                23             8                 1   \n",
            "2                 1.0                15             8                 3   \n",
            "3                 3.0                11             8                 3   \n",
            "4                 4.0                12             8                 2   \n",
            "\n",
            "   TotalWorkingYears  TrainingTimesLastYear  YearsAtCompany  \\\n",
            "0                1.0                      6               1   \n",
            "1                6.0                      3               5   \n",
            "2                5.0                      2               5   \n",
            "3               13.0                      5               8   \n",
            "4                9.0                      2               6   \n",
            "\n",
            "   YearsSinceLastPromotion  YearsWithCurrManager             InfoDate  \n",
            "0                        0                     0  2015-12-31 00:00:00  \n",
            "1                        1                     4  2015-12-31 00:00:00  \n",
            "2                        0                     3  2015-12-31 00:00:00  \n",
            "3                        7                     5  2015-12-31 00:00:00  \n",
            "4                        0                     4  2015-12-31 00:00:00  \n",
            "\n",
            "[5 rows x 24 columns]\n",
            "\n",
            "Datos de la tabla 'employee':\n",
            "   index  EmployeeID  EnvironmentSatisfaction  JobSatisfaction  \\\n",
            "0      0           1                      3.0              4.0   \n",
            "1      1           2                      3.0              2.0   \n",
            "2      2           3                      2.0              2.0   \n",
            "3      3           4                      4.0              4.0   \n",
            "4      4           5                      4.0              1.0   \n",
            "\n",
            "   WorkLifeBalance           DateSurvey  \n",
            "0              2.0  2015-12-31 00:00:00  \n",
            "1              4.0  2015-12-31 00:00:00  \n",
            "2              1.0  2015-12-31 00:00:00  \n",
            "3              3.0  2015-12-31 00:00:00  \n",
            "4              3.0  2015-12-31 00:00:00  \n",
            "\n",
            "Datos de la tabla 'manager':\n",
            "   index  EmployeeID  JobInvolvement  PerformanceRating           SurveyDate\n",
            "0      0           1               3                  3  2015-12-31 00:00:00\n",
            "1      1           2               2                  4  2015-12-31 00:00:00\n",
            "2      2           3               3                  3  2015-12-31 00:00:00\n",
            "3      3           4               2                  3  2015-12-31 00:00:00\n",
            "4      4           5               3                  3  2015-12-31 00:00:00\n",
            "\n",
            "Conteo de 'Attrition' en la tabla 'retiros':\n",
            "  Attrition  COUNT(*)\n",
            "0       Yes       711\n",
            "\n",
            "Conteo de 'BusinessTravel' en la tabla 'general':\n",
            "      BusinessTravel  COUNT(*)\n",
            "0         Non-Travel       900\n",
            "1  Travel_Frequently      1662\n",
            "2      Travel_Rarely      6258\n",
            "\n",
            "Conteo de 'JobSatisfaction' en la tabla 'employee':\n",
            "   JobSatisfaction  COUNT(*)\n",
            "0              NaN        40\n",
            "1              1.0      1720\n",
            "2              2.0      1680\n",
            "3              3.0      2646\n",
            "4              4.0      2734\n"
          ]
        }
      ],
      "source": [
        "#  pandas actualizado correctamente\n",
        "!pip install --upgrade pandas\n",
        "\n",
        "# importar pandas y sqlite3\n",
        "import pandas as pd\n",
        "import sqlite3 as sql\n",
        "\n",
        "# Crear una conexión a la base de datos SQLite\n",
        "conn = sql.connect('/content/drive/MyDrive/analitica3win/proyecto_recursoshumanos/base.db')\n",
        "\n",
        "# Consultar las primeras filas de cada tabla\n",
        "print(\"\\nDatos de la tabla 'retiros':\")\n",
        "df_retiros = pd.read_sql(\"SELECT * FROM retiros LIMIT 5\", conn)\n",
        "print(df_retiros)\n",
        "\n",
        "print(\"\\nDatos de la tabla 'general':\")\n",
        "df_general = pd.read_sql(\"SELECT * FROM general LIMIT 5\", conn)\n",
        "print(df_general)\n",
        "\n",
        "print(\"\\nDatos de la tabla 'employee':\")\n",
        "df_employee = pd.read_sql(\"SELECT * FROM employee LIMIT 5\", conn)\n",
        "print(df_employee)\n",
        "\n",
        "print(\"\\nDatos de la tabla 'manager':\")\n",
        "df_manager = pd.read_sql(\"SELECT * FROM manager LIMIT 5\", conn)\n",
        "print(df_manager)\n",
        "\n",
        "# Realizar consultas SQL para análisis\n",
        "print(\"\\nConteo de 'Attrition' en la tabla 'retiros':\")\n",
        "attrition_count = pd.read_sql(\"SELECT Attrition, COUNT(*) FROM retiros GROUP BY Attrition\", conn)\n",
        "print(attrition_count)\n",
        "\n",
        "print(\"\\nConteo de 'BusinessTravel' en la tabla 'general':\")\n",
        "business_travel_count = pd.read_sql(\"SELECT BusinessTravel, COUNT(*) FROM general GROUP BY BusinessTravel\", conn)\n",
        "print(business_travel_count)\n",
        "\n",
        "# Realizar más consultas según sea necesario\n",
        "# Ejemplo: Conteo de 'JobSatisfaction' en la tabla 'employee'\n",
        "print(\"\\nConteo de 'JobSatisfaction' en la tabla 'employee':\")\n",
        "job_satisfaction_count = pd.read_sql(\"SELECT JobSatisfaction, COUNT(*) FROM employee GROUP BY JobSatisfaction\", conn)\n",
        "print(job_satisfaction_count)\n",
        "\n"
      ]
    },
    {
      "cell_type": "code",
      "source": [
        "# Obtener la lista de tablas en la base de datos\n",
        "tables = [row[0] for row in conn.execute(\"SELECT name FROM sqlite_master WHERE type='table'\").fetchall()]\n",
        "\n",
        "# Mostrar información sobre cada tabla y sus columnas\n",
        "for table in tables:\n",
        "    print(f\"\\nInformación sobre la tabla '{table}':\")\n",
        "\n",
        "    # Consultar las primeras filas de la tabla\n",
        "    df = pd.read_sql(f\"SELECT * FROM {table} LIMIT 5\", conn)\n",
        "    print(f\"\\nPrimeras 5 filas de la tabla '{table}':\")\n",
        "    print(df)\n",
        "\n",
        "    # Mostrar la estructura de la tabla (tipos de datos)\n",
        "    print(f\"\\nEstructura de la tabla '{table}':\")\n",
        "    cur = conn.cursor()\n",
        "    cur.execute(f\"PRAGMA table_info({table})\")\n",
        "    structure = cur.fetchall()\n",
        "    for column in structure:\n",
        "        print(f\"Columna: {column[1]}, Tipo: {column[2]}\")\n",
        ""
      ],
      "metadata": {
        "colab": {
          "base_uri": "https://localhost:8080/"
        },
        "id": "ZhGZBxLtKZZr",
        "outputId": "9c9c57cf-e72b-4a52-aaf4-d3cf8e2c97b4"
      },
      "execution_count": 3,
      "outputs": [
        {
          "output_type": "stream",
          "name": "stdout",
          "text": [
            "\n",
            "Información sobre la tabla 'retiros':\n",
            "\n",
            "Primeras 5 filas de la tabla 'retiros':\n",
            "   index  EmployeeID Attrition       retirementDate retirementType  \\\n",
            "0      0           2       Yes  2016-10-15 00:00:00    Resignation   \n",
            "1      1           7       Yes  2016-07-20 00:00:00    Resignation   \n",
            "2      2          14       Yes  2016-11-08 00:00:00    Resignation   \n",
            "3      3          29       Yes  2016-10-15 00:00:00    Resignation   \n",
            "4      4          31       Yes  2016-02-08 00:00:00    Resignation   \n",
            "\n",
            "  resignationReason  \n",
            "0            Others  \n",
            "1            Stress  \n",
            "2            Others  \n",
            "3            Others  \n",
            "4            Salary  \n",
            "\n",
            "Estructura de la tabla 'retiros':\n",
            "Columna: index, Tipo: INTEGER\n",
            "Columna: EmployeeID, Tipo: INTEGER\n",
            "Columna: Attrition, Tipo: TEXT\n",
            "Columna: retirementDate, Tipo: TIMESTAMP\n",
            "Columna: retirementType, Tipo: TEXT\n",
            "Columna: resignationReason, Tipo: TEXT\n",
            "\n",
            "Información sobre la tabla 'general':\n",
            "\n",
            "Primeras 5 filas de la tabla 'general':\n",
            "   index  Age     BusinessTravel              Department  DistanceFromHome  \\\n",
            "0      0   51      Travel_Rarely                   Sales                 6   \n",
            "1      1   31  Travel_Frequently  Research & Development                10   \n",
            "2      2   32  Travel_Frequently  Research & Development                17   \n",
            "3      3   38         Non-Travel  Research & Development                 2   \n",
            "4      4   32      Travel_Rarely  Research & Development                10   \n",
            "\n",
            "   Education EducationField  EmployeeCount  EmployeeID  Gender  ...  \\\n",
            "0          2  Life Sciences              1           1  Female  ...   \n",
            "1          1  Life Sciences              1           2  Female  ...   \n",
            "2          4          Other              1           3    Male  ...   \n",
            "3          5  Life Sciences              1           4    Male  ...   \n",
            "4          1        Medical              1           5    Male  ...   \n",
            "\n",
            "   NumCompaniesWorked PercentSalaryHike StandardHours  StockOptionLevel  \\\n",
            "0                 1.0                11             8                 0   \n",
            "1                 0.0                23             8                 1   \n",
            "2                 1.0                15             8                 3   \n",
            "3                 3.0                11             8                 3   \n",
            "4                 4.0                12             8                 2   \n",
            "\n",
            "   TotalWorkingYears  TrainingTimesLastYear  YearsAtCompany  \\\n",
            "0                1.0                      6               1   \n",
            "1                6.0                      3               5   \n",
            "2                5.0                      2               5   \n",
            "3               13.0                      5               8   \n",
            "4                9.0                      2               6   \n",
            "\n",
            "   YearsSinceLastPromotion  YearsWithCurrManager             InfoDate  \n",
            "0                        0                     0  2015-12-31 00:00:00  \n",
            "1                        1                     4  2015-12-31 00:00:00  \n",
            "2                        0                     3  2015-12-31 00:00:00  \n",
            "3                        7                     5  2015-12-31 00:00:00  \n",
            "4                        0                     4  2015-12-31 00:00:00  \n",
            "\n",
            "[5 rows x 24 columns]\n",
            "\n",
            "Estructura de la tabla 'general':\n",
            "Columna: index, Tipo: INTEGER\n",
            "Columna: Age, Tipo: INTEGER\n",
            "Columna: BusinessTravel, Tipo: TEXT\n",
            "Columna: Department, Tipo: TEXT\n",
            "Columna: DistanceFromHome, Tipo: INTEGER\n",
            "Columna: Education, Tipo: INTEGER\n",
            "Columna: EducationField, Tipo: TEXT\n",
            "Columna: EmployeeCount, Tipo: INTEGER\n",
            "Columna: EmployeeID, Tipo: INTEGER\n",
            "Columna: Gender, Tipo: TEXT\n",
            "Columna: JobLevel, Tipo: INTEGER\n",
            "Columna: JobRole, Tipo: TEXT\n",
            "Columna: MaritalStatus, Tipo: TEXT\n",
            "Columna: MonthlyIncome, Tipo: INTEGER\n",
            "Columna: NumCompaniesWorked, Tipo: REAL\n",
            "Columna: PercentSalaryHike, Tipo: INTEGER\n",
            "Columna: StandardHours, Tipo: INTEGER\n",
            "Columna: StockOptionLevel, Tipo: INTEGER\n",
            "Columna: TotalWorkingYears, Tipo: REAL\n",
            "Columna: TrainingTimesLastYear, Tipo: INTEGER\n",
            "Columna: YearsAtCompany, Tipo: INTEGER\n",
            "Columna: YearsSinceLastPromotion, Tipo: INTEGER\n",
            "Columna: YearsWithCurrManager, Tipo: INTEGER\n",
            "Columna: InfoDate, Tipo: TIMESTAMP\n",
            "\n",
            "Información sobre la tabla 'employee':\n",
            "\n",
            "Primeras 5 filas de la tabla 'employee':\n",
            "   index  EmployeeID  EnvironmentSatisfaction  JobSatisfaction  \\\n",
            "0      0           1                      3.0              4.0   \n",
            "1      1           2                      3.0              2.0   \n",
            "2      2           3                      2.0              2.0   \n",
            "3      3           4                      4.0              4.0   \n",
            "4      4           5                      4.0              1.0   \n",
            "\n",
            "   WorkLifeBalance           DateSurvey  \n",
            "0              2.0  2015-12-31 00:00:00  \n",
            "1              4.0  2015-12-31 00:00:00  \n",
            "2              1.0  2015-12-31 00:00:00  \n",
            "3              3.0  2015-12-31 00:00:00  \n",
            "4              3.0  2015-12-31 00:00:00  \n",
            "\n",
            "Estructura de la tabla 'employee':\n",
            "Columna: index, Tipo: INTEGER\n",
            "Columna: EmployeeID, Tipo: INTEGER\n",
            "Columna: EnvironmentSatisfaction, Tipo: REAL\n",
            "Columna: JobSatisfaction, Tipo: REAL\n",
            "Columna: WorkLifeBalance, Tipo: REAL\n",
            "Columna: DateSurvey, Tipo: TIMESTAMP\n",
            "\n",
            "Información sobre la tabla 'manager':\n",
            "\n",
            "Primeras 5 filas de la tabla 'manager':\n",
            "   index  EmployeeID  JobInvolvement  PerformanceRating           SurveyDate\n",
            "0      0           1               3                  3  2015-12-31 00:00:00\n",
            "1      1           2               2                  4  2015-12-31 00:00:00\n",
            "2      2           3               3                  3  2015-12-31 00:00:00\n",
            "3      3           4               2                  3  2015-12-31 00:00:00\n",
            "4      4           5               3                  3  2015-12-31 00:00:00\n",
            "\n",
            "Estructura de la tabla 'manager':\n",
            "Columna: index, Tipo: INTEGER\n",
            "Columna: EmployeeID, Tipo: INTEGER\n",
            "Columna: JobInvolvement, Tipo: INTEGER\n",
            "Columna: PerformanceRating, Tipo: INTEGER\n",
            "Columna: SurveyDate, Tipo: TIMESTAMP\n"
          ]
        }
      ]
    },
    {
      "cell_type": "code",
      "source": [
        "## tratamiento de la tabla de retiros\n",
        "# Contar registros por ID de empleado en la tabla de retiros\n",
        "employee_id_count = pd.read_sql(\"SELECT EmployeeID, COUNT(*) as count FROM retiros GROUP BY EmployeeID\", conn)\n",
        "\n",
        "# Mostrar el resultado\n",
        "print(\"\\nConteo de registros por ID de empleado en la tabla 'retiros':\")\n",
        "print(employee_id_count)\n",
        "\n",
        "\n",
        "\n"
      ],
      "metadata": {
        "colab": {
          "base_uri": "https://localhost:8080/"
        },
        "id": "UyK7GjAFCktb",
        "outputId": "b8bb57f1-568a-4f49-c570-7df863c8093f"
      },
      "execution_count": 7,
      "outputs": [
        {
          "output_type": "stream",
          "name": "stdout",
          "text": [
            "\n",
            "Conteo de registros por ID de empleado en la tabla 'retiros':\n",
            "     EmployeeID  count\n",
            "0             2      1\n",
            "1             7      1\n",
            "2            14      1\n",
            "3            29      1\n",
            "4            31      1\n",
            "..          ...    ...\n",
            "706        4382      1\n",
            "707        4387      1\n",
            "708        4389      1\n",
            "709        4392      1\n",
            "710        4403      1\n",
            "\n",
            "[711 rows x 2 columns]\n"
          ]
        }
      ]
    },
    {
      "cell_type": "code",
      "source": [
        "# Resumen de la columna 'retirementDate'\n",
        "print(\"\\nResumen de la columna 'retirementDate' en la tabla 'retiros':\")\n",
        "\n",
        "# Contar valores no nulos y nulos\n",
        "total_retiros = pd.read_sql(\"SELECT COUNT(*) FROM retiros WHERE retirementDate IS NOT NULL\", conn).iloc[0, 0]\n",
        "total_nulos = pd.read_sql(\"SELECT COUNT(*) FROM retiros WHERE retirementDate IS NULL\", conn).iloc[0, 0]\n",
        "print(f\"Total de fechas de retiro no nulas: {total_retiros}\")\n",
        "print(f\"Total de fechas de retiro nulas: {total_nulos}\")\n",
        "\n",
        "# Estadísticas descriptivas\n",
        "retiros_df = pd.read_sql(\"SELECT retirementDate FROM retiros WHERE retirementDate IS NOT NULL\", conn)\n",
        "retiros_df['retirementDate'] = pd.to_datetime(retiros_df['retirementDate'])  # Convertir a datetime\n",
        "print(\"\\nEstadísticas descriptivas de 'retirementDate':\")\n",
        "print(f\"Fecha mínima de retiro: {retiros_df['retirementDate'].min()}\")\n",
        "print(f\"Fecha máxima de retiro: {retiros_df['retirementDate'].max()}\")\n",
        "\n",
        "# Distribución por año\n",
        "retiros_df['Año'] = retiros_df['retirementDate'].dt.year\n",
        "retiros_por_anio = retiros_df.groupby('Año').size().reset_index(name='Cantidad de retiros')\n",
        "print(\"\\nDistribución de retiros por año:\")\n",
        "print(retiros_por_anio)\n",
        "\n"
      ],
      "metadata": {
        "colab": {
          "base_uri": "https://localhost:8080/"
        },
        "id": "IF5-pgjsEs7x",
        "outputId": "c5b62ae6-592a-4606-f158-8f2dd66aa6ce"
      },
      "execution_count": 9,
      "outputs": [
        {
          "output_type": "stream",
          "name": "stdout",
          "text": [
            "\n",
            "Resumen de la columna 'retirementDate' en la tabla 'retiros':\n",
            "Total de fechas de retiro no nulas: 711\n",
            "Total de fechas de retiro nulas: 0\n",
            "\n",
            "Estadísticas descriptivas de 'retirementDate':\n",
            "Fecha mínima de retiro: 2015-01-03 00:00:00\n",
            "Fecha máxima de retiro: 2016-12-16 00:00:00\n",
            "\n",
            "Distribución de retiros por año:\n",
            "    Año  Cantidad de retiros\n",
            "0  2015                   61\n",
            "1  2016                  650\n",
            "\n",
            "Distribución de retiros por mes:\n",
            "        Mes  Cantidad de retiros\n",
            "0   2015-01                    5\n",
            "1   2015-02                    7\n",
            "2   2015-03                    2\n",
            "3   2015-04                    4\n",
            "4   2015-05                    7\n",
            "5   2015-06                    8\n",
            "6   2015-07                    4\n",
            "7   2015-08                    4\n",
            "8   2015-09                    7\n",
            "9   2015-10                    8\n",
            "10  2015-11                    4\n",
            "11  2015-12                    1\n",
            "12  2016-01                   66\n",
            "13  2016-02                   61\n",
            "14  2016-03                   59\n",
            "15  2016-04                   48\n",
            "16  2016-05                   69\n",
            "17  2016-06                   52\n",
            "18  2016-07                   63\n",
            "19  2016-08                   48\n",
            "20  2016-09                   46\n",
            "21  2016-10                   53\n",
            "22  2016-11                   53\n",
            "23  2016-12                   32\n"
          ]
        }
      ]
    },
    {
      "cell_type": "code",
      "source": [
        "# Eliminar los registros con fechas de retiro en el año 2015\n",
        "conn.execute(\"DELETE FROM retiros WHERE strftime('%Y', retirementDate) = '2015'\")\n",
        "conn.commit()\n",
        "\n",
        "# Verificar que los registros han sido eliminados\n",
        "retiros_df = pd.read_sql(\"SELECT retirementDate FROM retiros WHERE retirementDate IS NOT NULL\", conn)\n",
        "retiros_df['retirementDate'] = pd.to_datetime(retiros_df['retirementDate'])  # Convertir a datetime\n",
        "print(\"\\nVerificación después de eliminar los datos del año 2015:\")\n",
        "print(f\"Fecha mínima de retiro: {retiros_df['retirementDate'].min()}\")\n",
        "print(f\"Fecha máxima de retiro: {retiros_df['retirementDate'].max()}\")\n",
        "\n",
        "# Distribución de retiros por año después de eliminar los datos\n",
        "retiros_df['Año'] = retiros_df['retirementDate'].dt.year\n",
        "retiros_por_anio = retiros_df.groupby('Año').size().reset_index(name='Cantidad de retiros')\n",
        "print(\"\\nDistribución de retiros por año después de eliminación:\")\n",
        "print(retiros_por_anio)"
      ],
      "metadata": {
        "colab": {
          "base_uri": "https://localhost:8080/"
        },
        "id": "BqXBlmWIGDY_",
        "outputId": "5192b711-e567-449f-e7ef-e631215cad8a"
      },
      "execution_count": 10,
      "outputs": [
        {
          "output_type": "stream",
          "name": "stdout",
          "text": [
            "\n",
            "Verificación después de eliminar los datos del año 2015:\n",
            "Fecha mínima de retiro: 2016-01-02 00:00:00\n",
            "Fecha máxima de retiro: 2016-12-16 00:00:00\n",
            "\n",
            "Distribución de retiros por año después de eliminación:\n",
            "    Año  Cantidad de retiros\n",
            "0  2016                  650\n"
          ]
        }
      ]
    },
    {
      "cell_type": "code",
      "source": [
        "##analisis de retirementType\n",
        "\n",
        "# Consultar los datos de la columna 'retirementType'\n",
        "retiros_df = pd.read_sql(\"SELECT retirementType FROM retiros\", conn)\n",
        "\n",
        "# Contar valores únicos y frecuencia de cada tipo\n",
        "print(\"\\nResumen de la columna 'retirementType':\")\n",
        "print(f\"Valores únicos en 'retirementType': {retiros_df['retirementType'].nunique()}\")\n",
        "print(\"\\nFrecuencia de cada tipo de retiro:\")\n",
        "print(retiros_df['retirementType'].value_counts())\n",
        "\n",
        "# Contar valores nulos\n",
        "total_nulos = retiros_df['retirementType'].isnull().sum()\n",
        "print(f\"\\nTotal de valores nulos en 'retirementType': {total_nulos}\")"
      ],
      "metadata": {
        "colab": {
          "base_uri": "https://localhost:8080/"
        },
        "id": "ArTiYMoMG8B5",
        "outputId": "5906ec18-058d-4df5-e9d1-7111f209b36b"
      },
      "execution_count": 13,
      "outputs": [
        {
          "output_type": "stream",
          "name": "stdout",
          "text": [
            "\n",
            "Resumen de la columna 'retirementType':\n",
            "Valores únicos en 'retirementType': 2\n",
            "\n",
            "Frecuencia de cada tipo de retiro:\n",
            "retirementType\n",
            "Resignation    585\n",
            "Fired           65\n",
            "Name: count, dtype: int64\n",
            "\n",
            "Total de valores nulos en 'retirementType': 0\n"
          ]
        }
      ]
    },
    {
      "cell_type": "code",
      "source": [
        "import pandas as pd\n",
        "\n",
        "# Leer todos los datos de la tabla 'retiros'\n",
        "retiros_df = pd.read_sql(\"SELECT * FROM retiros\", conn)\n",
        "\n",
        "# Crear una copia del DataFrame original para modificaciones\n",
        "retiros_processed_df = retiros_df.copy()\n",
        "\n",
        "# Codificación One-Hot para la columna 'retirementType' sin eliminar ninguna categoría\n",
        "encoded_retiros_df = pd.get_dummies(retiros_processed_df['retirementType'], prefix='retirementType')\n",
        "\n",
        "# Convertir los valores True/False a 0/1\n",
        "encoded_retiros_df = encoded_retiros_df.astype(int)\n",
        "\n",
        "# Agregar las columnas codificadas al DataFrame procesado\n",
        "retiros_processed_df = pd.concat([retiros_processed_df, encoded_retiros_df], axis=1)\n",
        "\n",
        "# Eliminar la columna original 'retirementType' si ya no es necesaria\n",
        "retiros_processed_df.drop('retirementType', axis=1, inplace=True)\n",
        "\n",
        "# Imprimir el DataFrame procesado\n",
        "print(retiros_processed_df.head())\n",
        "\n",
        "# Mostrar el tamaño del DataFrame procesado\n",
        "print(f\"\\nNúmero total de filas en el DataFrame procesado: {len(retiros_processed_df)}\")\n"
      ],
      "metadata": {
        "colab": {
          "base_uri": "https://localhost:8080/"
        },
        "id": "hPpX3NwMI6RX",
        "outputId": "eeb8f5f1-ec9f-4075-835e-9afd89df566d"
      },
      "execution_count": 18,
      "outputs": [
        {
          "output_type": "stream",
          "name": "stdout",
          "text": [
            "   index  EmployeeID Attrition       retirementDate resignationReason  \\\n",
            "0      0           2       Yes  2016-10-15 00:00:00            Others   \n",
            "1      1           7       Yes  2016-07-20 00:00:00            Stress   \n",
            "2      2          14       Yes  2016-11-08 00:00:00            Others   \n",
            "3      3          29       Yes  2016-10-15 00:00:00            Others   \n",
            "4      4          31       Yes  2016-02-08 00:00:00            Salary   \n",
            "\n",
            "   retirementType_Fired  retirementType_Resignation  \n",
            "0                     0                           1  \n",
            "1                     0                           1  \n",
            "2                     0                           1  \n",
            "3                     0                           1  \n",
            "4                     0                           1  \n",
            "\n",
            "Número total de filas en el DataFrame procesado: 650\n"
          ]
        }
      ]
    },
    {
      "cell_type": "code",
      "source": [
        "\n",
        "# Leer todos los datos de la tabla 'retiros'\n",
        "retiros_df = pd.read_sql(\"SELECT resignationReason FROM retiros\", conn)\n",
        "\n",
        "# Resumen de la columna 'resignationReason'\n",
        "unique_reasons = retiros_df['resignationReason'].unique()\n",
        "reason_counts = retiros_df['resignationReason'].value_counts()\n",
        "missing_values = retiros_df['resignationReason'].isnull().sum()\n",
        "\n",
        "# Imprimir resumen\n",
        "print(f\"\\nValores únicos en 'resignationReason': {unique_reasons}\")\n",
        "print(\"\\nFrecuencia de cada motivo de renuncia:\")\n",
        "print(reason_counts)\n",
        "print(f\"\\nNúmero total de valores nulos en 'resignationReason': {missing_values}\")"
      ],
      "metadata": {
        "colab": {
          "base_uri": "https://localhost:8080/"
        },
        "id": "XoN0AqbOLT2-",
        "outputId": "80f842c0-23ea-4903-fb61-bffdcf381551"
      },
      "execution_count": 19,
      "outputs": [
        {
          "output_type": "stream",
          "name": "stdout",
          "text": [
            "\n",
            "Valores únicos en 'resignationReason': ['Others' 'Stress' 'Salary' None]\n",
            "\n",
            "Frecuencia de cada motivo de renuncia:\n",
            "resignationReason\n",
            "Others    296\n",
            "Salary    173\n",
            "Stress    116\n",
            "Name: count, dtype: int64\n",
            "\n",
            "Número total de valores nulos en 'resignationReason': 65\n"
          ]
        }
      ]
    },
    {
      "cell_type": "code",
      "source": [
        "# Reemplazar valores nulos con 'Unknown'\n",
        "retiros_processed_df['resignationReason'].fillna('Unknown', inplace=True)\n",
        "\n",
        "# Codificación One-Hot para la columna 'resignationReason'\n",
        "encoded_reasons_df = pd.get_dummies(retiros_processed_df['resignationReason'], prefix='resignationReason', drop_first=False)\n",
        "\n",
        "# Convertir valores True/False a 1/0 en las columnas codificadas\n",
        "encoded_reasons_df = encoded_reasons_df.astype(int)\n",
        "\n",
        "# Agregar las columnas codificadas al DataFrame procesado\n",
        "retiros_processed_df = pd.concat([retiros_processed_df, encoded_reasons_df], axis=1)\n",
        "\n",
        "# Eliminar la columna original 'resignationReason'\n",
        "retiros_processed_df.drop('resignationReason', axis=1, inplace=True)\n",
        "\n",
        "# Eliminar la columna 'Unknown' resultante de la codificación\n",
        "if 'resignationReason_Unknown' in retiros_processed_df.columns:\n",
        "    retiros_processed_df.drop('resignationReason_Unknown', axis=1, inplace=True)\n",
        "\n",
        "# Imprimir el DataFrame procesado\n",
        "print(retiros_processed_df.head())\n",
        "\n",
        "# Mostrar el tamaño del DataFrame procesado\n",
        "print(f\"\\nNúmero total de filas en el DataFrame procesado: {len(retiros_processed_df)}\")"
      ],
      "metadata": {
        "colab": {
          "base_uri": "https://localhost:8080/",
          "height": 547
        },
        "id": "8J16U09tLz9f",
        "outputId": "1be86299-386d-4f52-c380-e7fa3764efa9"
      },
      "execution_count": 24,
      "outputs": [
        {
          "output_type": "error",
          "ename": "KeyError",
          "evalue": "'resignationReason'",
          "traceback": [
            "\u001b[0;31m---------------------------------------------------------------------------\u001b[0m",
            "\u001b[0;31mKeyError\u001b[0m                                  Traceback (most recent call last)",
            "\u001b[0;32m/usr/local/lib/python3.10/dist-packages/pandas/core/indexes/base.py\u001b[0m in \u001b[0;36mget_loc\u001b[0;34m(self, key)\u001b[0m\n\u001b[1;32m   3804\u001b[0m         \u001b[0;32mtry\u001b[0m\u001b[0;34m:\u001b[0m\u001b[0;34m\u001b[0m\u001b[0;34m\u001b[0m\u001b[0m\n\u001b[0;32m-> 3805\u001b[0;31m             \u001b[0;32mreturn\u001b[0m \u001b[0mself\u001b[0m\u001b[0;34m.\u001b[0m\u001b[0m_engine\u001b[0m\u001b[0;34m.\u001b[0m\u001b[0mget_loc\u001b[0m\u001b[0;34m(\u001b[0m\u001b[0mcasted_key\u001b[0m\u001b[0;34m)\u001b[0m\u001b[0;34m\u001b[0m\u001b[0;34m\u001b[0m\u001b[0m\n\u001b[0m\u001b[1;32m   3806\u001b[0m         \u001b[0;32mexcept\u001b[0m \u001b[0mKeyError\u001b[0m \u001b[0;32mas\u001b[0m \u001b[0merr\u001b[0m\u001b[0;34m:\u001b[0m\u001b[0;34m\u001b[0m\u001b[0;34m\u001b[0m\u001b[0m\n",
            "\u001b[0;32mindex.pyx\u001b[0m in \u001b[0;36mpandas._libs.index.IndexEngine.get_loc\u001b[0;34m()\u001b[0m\n",
            "\u001b[0;32mindex.pyx\u001b[0m in \u001b[0;36mpandas._libs.index.IndexEngine.get_loc\u001b[0;34m()\u001b[0m\n",
            "\u001b[0;32mpandas/_libs/hashtable_class_helper.pxi\u001b[0m in \u001b[0;36mpandas._libs.hashtable.PyObjectHashTable.get_item\u001b[0;34m()\u001b[0m\n",
            "\u001b[0;32mpandas/_libs/hashtable_class_helper.pxi\u001b[0m in \u001b[0;36mpandas._libs.hashtable.PyObjectHashTable.get_item\u001b[0;34m()\u001b[0m\n",
            "\u001b[0;31mKeyError\u001b[0m: 'resignationReason'",
            "\nThe above exception was the direct cause of the following exception:\n",
            "\u001b[0;31mKeyError\u001b[0m                                  Traceback (most recent call last)",
            "\u001b[0;32m<ipython-input-24-b8b66264da45>\u001b[0m in \u001b[0;36m<cell line: 2>\u001b[0;34m()\u001b[0m\n\u001b[1;32m      1\u001b[0m \u001b[0;31m# Reemplazar valores nulos con 'Unknown'\u001b[0m\u001b[0;34m\u001b[0m\u001b[0;34m\u001b[0m\u001b[0m\n\u001b[0;32m----> 2\u001b[0;31m \u001b[0mretiros_processed_df\u001b[0m\u001b[0;34m[\u001b[0m\u001b[0;34m'resignationReason'\u001b[0m\u001b[0;34m]\u001b[0m\u001b[0;34m.\u001b[0m\u001b[0mfillna\u001b[0m\u001b[0;34m(\u001b[0m\u001b[0;34m'Unknown'\u001b[0m\u001b[0;34m,\u001b[0m \u001b[0minplace\u001b[0m\u001b[0;34m=\u001b[0m\u001b[0;32mTrue\u001b[0m\u001b[0;34m)\u001b[0m\u001b[0;34m\u001b[0m\u001b[0;34m\u001b[0m\u001b[0m\n\u001b[0m\u001b[1;32m      3\u001b[0m \u001b[0;34m\u001b[0m\u001b[0m\n\u001b[1;32m      4\u001b[0m \u001b[0;31m# Codificación One-Hot para la columna 'resignationReason'\u001b[0m\u001b[0;34m\u001b[0m\u001b[0;34m\u001b[0m\u001b[0m\n\u001b[1;32m      5\u001b[0m \u001b[0mencoded_reasons_df\u001b[0m \u001b[0;34m=\u001b[0m \u001b[0mpd\u001b[0m\u001b[0;34m.\u001b[0m\u001b[0mget_dummies\u001b[0m\u001b[0;34m(\u001b[0m\u001b[0mretiros_processed_df\u001b[0m\u001b[0;34m[\u001b[0m\u001b[0;34m'resignationReason'\u001b[0m\u001b[0;34m]\u001b[0m\u001b[0;34m,\u001b[0m \u001b[0mprefix\u001b[0m\u001b[0;34m=\u001b[0m\u001b[0;34m'resignationReason'\u001b[0m\u001b[0;34m,\u001b[0m \u001b[0mdrop_first\u001b[0m\u001b[0;34m=\u001b[0m\u001b[0;32mFalse\u001b[0m\u001b[0;34m)\u001b[0m\u001b[0;34m\u001b[0m\u001b[0;34m\u001b[0m\u001b[0m\n",
            "\u001b[0;32m/usr/local/lib/python3.10/dist-packages/pandas/core/frame.py\u001b[0m in \u001b[0;36m__getitem__\u001b[0;34m(self, key)\u001b[0m\n\u001b[1;32m   4100\u001b[0m             \u001b[0;32mif\u001b[0m \u001b[0mself\u001b[0m\u001b[0;34m.\u001b[0m\u001b[0mcolumns\u001b[0m\u001b[0;34m.\u001b[0m\u001b[0mnlevels\u001b[0m \u001b[0;34m>\u001b[0m \u001b[0;36m1\u001b[0m\u001b[0;34m:\u001b[0m\u001b[0;34m\u001b[0m\u001b[0;34m\u001b[0m\u001b[0m\n\u001b[1;32m   4101\u001b[0m                 \u001b[0;32mreturn\u001b[0m \u001b[0mself\u001b[0m\u001b[0;34m.\u001b[0m\u001b[0m_getitem_multilevel\u001b[0m\u001b[0;34m(\u001b[0m\u001b[0mkey\u001b[0m\u001b[0;34m)\u001b[0m\u001b[0;34m\u001b[0m\u001b[0;34m\u001b[0m\u001b[0m\n\u001b[0;32m-> 4102\u001b[0;31m             \u001b[0mindexer\u001b[0m \u001b[0;34m=\u001b[0m \u001b[0mself\u001b[0m\u001b[0;34m.\u001b[0m\u001b[0mcolumns\u001b[0m\u001b[0;34m.\u001b[0m\u001b[0mget_loc\u001b[0m\u001b[0;34m(\u001b[0m\u001b[0mkey\u001b[0m\u001b[0;34m)\u001b[0m\u001b[0;34m\u001b[0m\u001b[0;34m\u001b[0m\u001b[0m\n\u001b[0m\u001b[1;32m   4103\u001b[0m             \u001b[0;32mif\u001b[0m \u001b[0mis_integer\u001b[0m\u001b[0;34m(\u001b[0m\u001b[0mindexer\u001b[0m\u001b[0;34m)\u001b[0m\u001b[0;34m:\u001b[0m\u001b[0;34m\u001b[0m\u001b[0;34m\u001b[0m\u001b[0m\n\u001b[1;32m   4104\u001b[0m                 \u001b[0mindexer\u001b[0m \u001b[0;34m=\u001b[0m \u001b[0;34m[\u001b[0m\u001b[0mindexer\u001b[0m\u001b[0;34m]\u001b[0m\u001b[0;34m\u001b[0m\u001b[0;34m\u001b[0m\u001b[0m\n",
            "\u001b[0;32m/usr/local/lib/python3.10/dist-packages/pandas/core/indexes/base.py\u001b[0m in \u001b[0;36mget_loc\u001b[0;34m(self, key)\u001b[0m\n\u001b[1;32m   3810\u001b[0m             ):\n\u001b[1;32m   3811\u001b[0m                 \u001b[0;32mraise\u001b[0m \u001b[0mInvalidIndexError\u001b[0m\u001b[0;34m(\u001b[0m\u001b[0mkey\u001b[0m\u001b[0;34m)\u001b[0m\u001b[0;34m\u001b[0m\u001b[0;34m\u001b[0m\u001b[0m\n\u001b[0;32m-> 3812\u001b[0;31m             \u001b[0;32mraise\u001b[0m \u001b[0mKeyError\u001b[0m\u001b[0;34m(\u001b[0m\u001b[0mkey\u001b[0m\u001b[0;34m)\u001b[0m \u001b[0;32mfrom\u001b[0m \u001b[0merr\u001b[0m\u001b[0;34m\u001b[0m\u001b[0;34m\u001b[0m\u001b[0m\n\u001b[0m\u001b[1;32m   3813\u001b[0m         \u001b[0;32mexcept\u001b[0m \u001b[0mTypeError\u001b[0m\u001b[0;34m:\u001b[0m\u001b[0;34m\u001b[0m\u001b[0;34m\u001b[0m\u001b[0m\n\u001b[1;32m   3814\u001b[0m             \u001b[0;31m# If we have a listlike key, _check_indexing_error will raise\u001b[0m\u001b[0;34m\u001b[0m\u001b[0;34m\u001b[0m\u001b[0m\n",
            "\u001b[0;31mKeyError\u001b[0m: 'resignationReason'"
          ]
        }
      ]
    },
    {
      "cell_type": "code",
      "source": [
        "# Imprimir las primeras filas del DataFrame procesado\n",
        "print(\"Primeras filas de retiros_processed_df:\")\n",
        "print(retiros_processed_df.head())\n",
        "\n",
        "# Mostrar el resumen de las nuevas columnas de codificación One-Hot\n",
        "print(\"\\nResumen de las columnas codificadas para 'resignationReason':\")\n",
        "encoded_columns = [col for col in retiros_processed_df.columns if col.startswith('resignationReason')]\n",
        "print(retiros_processed_df[encoded_columns].sum())\n",
        "\n",
        "# Mostrar el número total de filas en el DataFrame procesado\n",
        "print(f\"\\nNúmero total de filas en el DataFrame procesado: {len(retiros_processed_df)}\")"
      ],
      "metadata": {
        "colab": {
          "base_uri": "https://localhost:8080/"
        },
        "id": "c-NUmpNdMYW1",
        "outputId": "b6d3c4f3-1925-4e57-f8a4-ef98f988fe2c"
      },
      "execution_count": 22,
      "outputs": [
        {
          "output_type": "stream",
          "name": "stdout",
          "text": [
            "Primeras filas de retiros_processed_df:\n",
            "   index  EmployeeID Attrition       retirementDate resignationReason  \\\n",
            "0      0           2       Yes  2016-10-15 00:00:00            Others   \n",
            "1      1           7       Yes  2016-07-20 00:00:00            Stress   \n",
            "2      2          14       Yes  2016-11-08 00:00:00            Others   \n",
            "3      3          29       Yes  2016-10-15 00:00:00            Others   \n",
            "4      4          31       Yes  2016-02-08 00:00:00            Salary   \n",
            "\n",
            "   retirementType_Fired  retirementType_Resignation  \n",
            "0                     0                           1  \n",
            "1                     0                           1  \n",
            "2                     0                           1  \n",
            "3                     0                           1  \n",
            "4                     0                           1  \n",
            "\n",
            "Resumen de las columnas codificadas para 'resignationReason':\n",
            "resignationReason    OthersStressOthersOthersSalaryOthersStressOthe...\n",
            "dtype: object\n",
            "\n",
            "Número total de filas en el DataFrame procesado: 650\n"
          ]
        }
      ]
    },
    {
      "cell_type": "code",
      "source": [
        "# Reemplazar valores nulos con 'Unknown'\n",
        "retiros_processed_df['resignationReason'].fillna('Unknown', inplace=True)\n",
        "\n",
        "# Codificación One-Hot para la columna 'resignationReason'\n",
        "encoded_reasons_df = pd.get_dummies(retiros_processed_df['resignationReason'], prefix='resignationReason', drop_first=False)\n",
        "\n",
        "# Agregar las columnas codificadas al DataFrame procesado\n",
        "retiros_processed_df = pd.concat([retiros_processed_df, encoded_reasons_df], axis=1)\n",
        "\n",
        "# Eliminar la columna original 'resignationReason'\n",
        "retiros_processed_df.drop('resignationReason', axis=1, inplace=True)\n",
        "\n",
        "# Eliminar la columna 'Unknown' resultante de la codificación\n",
        "if 'resignationReason_Unknown' in retiros_processed_df.columns:\n",
        "    retiros_processed_df.drop('resignationReason_Unknown', axis=1, inplace=True)\n",
        "\n",
        "# Imprimir el DataFrame procesado\n",
        "print(retiros_processed_df.head())\n",
        "\n",
        "# Mostrar el tamaño del DataFrame procesado\n",
        "print(f\"\\nNúmero total de filas en el DataFrame procesado: {len(retiros_processed_df)}\")"
      ],
      "metadata": {
        "colab": {
          "base_uri": "https://localhost:8080/",
          "height": 547
        },
        "id": "fDSd0jEOPzct",
        "outputId": "84ea4d02-4dd8-44e2-b75b-d963f1dc4fff"
      },
      "execution_count": 25,
      "outputs": [
        {
          "output_type": "error",
          "ename": "KeyError",
          "evalue": "'resignationReason'",
          "traceback": [
            "\u001b[0;31m---------------------------------------------------------------------------\u001b[0m",
            "\u001b[0;31mKeyError\u001b[0m                                  Traceback (most recent call last)",
            "\u001b[0;32m/usr/local/lib/python3.10/dist-packages/pandas/core/indexes/base.py\u001b[0m in \u001b[0;36mget_loc\u001b[0;34m(self, key)\u001b[0m\n\u001b[1;32m   3804\u001b[0m         \u001b[0;32mtry\u001b[0m\u001b[0;34m:\u001b[0m\u001b[0;34m\u001b[0m\u001b[0;34m\u001b[0m\u001b[0m\n\u001b[0;32m-> 3805\u001b[0;31m             \u001b[0;32mreturn\u001b[0m \u001b[0mself\u001b[0m\u001b[0;34m.\u001b[0m\u001b[0m_engine\u001b[0m\u001b[0;34m.\u001b[0m\u001b[0mget_loc\u001b[0m\u001b[0;34m(\u001b[0m\u001b[0mcasted_key\u001b[0m\u001b[0;34m)\u001b[0m\u001b[0;34m\u001b[0m\u001b[0;34m\u001b[0m\u001b[0m\n\u001b[0m\u001b[1;32m   3806\u001b[0m         \u001b[0;32mexcept\u001b[0m \u001b[0mKeyError\u001b[0m \u001b[0;32mas\u001b[0m \u001b[0merr\u001b[0m\u001b[0;34m:\u001b[0m\u001b[0;34m\u001b[0m\u001b[0;34m\u001b[0m\u001b[0m\n",
            "\u001b[0;32mindex.pyx\u001b[0m in \u001b[0;36mpandas._libs.index.IndexEngine.get_loc\u001b[0;34m()\u001b[0m\n",
            "\u001b[0;32mindex.pyx\u001b[0m in \u001b[0;36mpandas._libs.index.IndexEngine.get_loc\u001b[0;34m()\u001b[0m\n",
            "\u001b[0;32mpandas/_libs/hashtable_class_helper.pxi\u001b[0m in \u001b[0;36mpandas._libs.hashtable.PyObjectHashTable.get_item\u001b[0;34m()\u001b[0m\n",
            "\u001b[0;32mpandas/_libs/hashtable_class_helper.pxi\u001b[0m in \u001b[0;36mpandas._libs.hashtable.PyObjectHashTable.get_item\u001b[0;34m()\u001b[0m\n",
            "\u001b[0;31mKeyError\u001b[0m: 'resignationReason'",
            "\nThe above exception was the direct cause of the following exception:\n",
            "\u001b[0;31mKeyError\u001b[0m                                  Traceback (most recent call last)",
            "\u001b[0;32m<ipython-input-25-98c448adc577>\u001b[0m in \u001b[0;36m<cell line: 2>\u001b[0;34m()\u001b[0m\n\u001b[1;32m      1\u001b[0m \u001b[0;31m# Reemplazar valores nulos con 'Unknown'\u001b[0m\u001b[0;34m\u001b[0m\u001b[0;34m\u001b[0m\u001b[0m\n\u001b[0;32m----> 2\u001b[0;31m \u001b[0mretiros_processed_df\u001b[0m\u001b[0;34m[\u001b[0m\u001b[0;34m'resignationReason'\u001b[0m\u001b[0;34m]\u001b[0m\u001b[0;34m.\u001b[0m\u001b[0mfillna\u001b[0m\u001b[0;34m(\u001b[0m\u001b[0;34m'Unknown'\u001b[0m\u001b[0;34m,\u001b[0m \u001b[0minplace\u001b[0m\u001b[0;34m=\u001b[0m\u001b[0;32mTrue\u001b[0m\u001b[0;34m)\u001b[0m\u001b[0;34m\u001b[0m\u001b[0;34m\u001b[0m\u001b[0m\n\u001b[0m\u001b[1;32m      3\u001b[0m \u001b[0;34m\u001b[0m\u001b[0m\n\u001b[1;32m      4\u001b[0m \u001b[0;31m# Codificación One-Hot para la columna 'resignationReason'\u001b[0m\u001b[0;34m\u001b[0m\u001b[0;34m\u001b[0m\u001b[0m\n\u001b[1;32m      5\u001b[0m \u001b[0mencoded_reasons_df\u001b[0m \u001b[0;34m=\u001b[0m \u001b[0mpd\u001b[0m\u001b[0;34m.\u001b[0m\u001b[0mget_dummies\u001b[0m\u001b[0;34m(\u001b[0m\u001b[0mretiros_processed_df\u001b[0m\u001b[0;34m[\u001b[0m\u001b[0;34m'resignationReason'\u001b[0m\u001b[0;34m]\u001b[0m\u001b[0;34m,\u001b[0m \u001b[0mprefix\u001b[0m\u001b[0;34m=\u001b[0m\u001b[0;34m'resignationReason'\u001b[0m\u001b[0;34m,\u001b[0m \u001b[0mdrop_first\u001b[0m\u001b[0;34m=\u001b[0m\u001b[0;32mFalse\u001b[0m\u001b[0;34m)\u001b[0m\u001b[0;34m\u001b[0m\u001b[0;34m\u001b[0m\u001b[0m\n",
            "\u001b[0;32m/usr/local/lib/python3.10/dist-packages/pandas/core/frame.py\u001b[0m in \u001b[0;36m__getitem__\u001b[0;34m(self, key)\u001b[0m\n\u001b[1;32m   4100\u001b[0m             \u001b[0;32mif\u001b[0m \u001b[0mself\u001b[0m\u001b[0;34m.\u001b[0m\u001b[0mcolumns\u001b[0m\u001b[0;34m.\u001b[0m\u001b[0mnlevels\u001b[0m \u001b[0;34m>\u001b[0m \u001b[0;36m1\u001b[0m\u001b[0;34m:\u001b[0m\u001b[0;34m\u001b[0m\u001b[0;34m\u001b[0m\u001b[0m\n\u001b[1;32m   4101\u001b[0m                 \u001b[0;32mreturn\u001b[0m \u001b[0mself\u001b[0m\u001b[0;34m.\u001b[0m\u001b[0m_getitem_multilevel\u001b[0m\u001b[0;34m(\u001b[0m\u001b[0mkey\u001b[0m\u001b[0;34m)\u001b[0m\u001b[0;34m\u001b[0m\u001b[0;34m\u001b[0m\u001b[0m\n\u001b[0;32m-> 4102\u001b[0;31m             \u001b[0mindexer\u001b[0m \u001b[0;34m=\u001b[0m \u001b[0mself\u001b[0m\u001b[0;34m.\u001b[0m\u001b[0mcolumns\u001b[0m\u001b[0;34m.\u001b[0m\u001b[0mget_loc\u001b[0m\u001b[0;34m(\u001b[0m\u001b[0mkey\u001b[0m\u001b[0;34m)\u001b[0m\u001b[0;34m\u001b[0m\u001b[0;34m\u001b[0m\u001b[0m\n\u001b[0m\u001b[1;32m   4103\u001b[0m             \u001b[0;32mif\u001b[0m \u001b[0mis_integer\u001b[0m\u001b[0;34m(\u001b[0m\u001b[0mindexer\u001b[0m\u001b[0;34m)\u001b[0m\u001b[0;34m:\u001b[0m\u001b[0;34m\u001b[0m\u001b[0;34m\u001b[0m\u001b[0m\n\u001b[1;32m   4104\u001b[0m                 \u001b[0mindexer\u001b[0m \u001b[0;34m=\u001b[0m \u001b[0;34m[\u001b[0m\u001b[0mindexer\u001b[0m\u001b[0;34m]\u001b[0m\u001b[0;34m\u001b[0m\u001b[0;34m\u001b[0m\u001b[0m\n",
            "\u001b[0;32m/usr/local/lib/python3.10/dist-packages/pandas/core/indexes/base.py\u001b[0m in \u001b[0;36mget_loc\u001b[0;34m(self, key)\u001b[0m\n\u001b[1;32m   3810\u001b[0m             ):\n\u001b[1;32m   3811\u001b[0m                 \u001b[0;32mraise\u001b[0m \u001b[0mInvalidIndexError\u001b[0m\u001b[0;34m(\u001b[0m\u001b[0mkey\u001b[0m\u001b[0;34m)\u001b[0m\u001b[0;34m\u001b[0m\u001b[0;34m\u001b[0m\u001b[0m\n\u001b[0;32m-> 3812\u001b[0;31m             \u001b[0;32mraise\u001b[0m \u001b[0mKeyError\u001b[0m\u001b[0;34m(\u001b[0m\u001b[0mkey\u001b[0m\u001b[0;34m)\u001b[0m \u001b[0;32mfrom\u001b[0m \u001b[0merr\u001b[0m\u001b[0;34m\u001b[0m\u001b[0;34m\u001b[0m\u001b[0m\n\u001b[0m\u001b[1;32m   3813\u001b[0m         \u001b[0;32mexcept\u001b[0m \u001b[0mTypeError\u001b[0m\u001b[0;34m:\u001b[0m\u001b[0;34m\u001b[0m\u001b[0;34m\u001b[0m\u001b[0m\n\u001b[1;32m   3814\u001b[0m             \u001b[0;31m# If we have a listlike key, _check_indexing_error will raise\u001b[0m\u001b[0;34m\u001b[0m\u001b[0;34m\u001b[0m\u001b[0m\n",
            "\u001b[0;31mKeyError\u001b[0m: 'resignationReason'"
          ]
        }
      ]
    },
    {
      "cell_type": "code",
      "source": [
        "# Convertir valores True/False a 1/0 en las columnas codificadas\n",
        "encoded_reasons_df = encoded_reasons_df.astype(int)\n",
        "\n",
        "# Agregar las columnas codificadas al DataFrame procesado\n",
        "retiros_processed_df = pd.concat([retiros_processed_df, encoded_reasons_df], axis=1)\n",
        "\n",
        "# Eliminar la columna original 'resignationReason'\n",
        "retiros_processed_df.drop('resignationReason', axis=1, inplace=True)\n",
        "\n",
        "# Eliminar la columna 'Unknown' resultante de la codificación si existe\n",
        "if 'resignationReason_Unknown' in retiros_processed_df.columns:\n",
        "    retiros_processed_df.drop('resignationReason_Unknown', axis=1, inplace=True)\n",
        "\n",
        "# Imprimir el DataFrame procesado\n",
        "print(retiros_processed_df.head())"
      ],
      "metadata": {
        "colab": {
          "base_uri": "https://localhost:8080/",
          "height": 356
        },
        "id": "W47TfQFLQFOo",
        "outputId": "f7bd5c83-d103-4bf4-8a05-3353833e7017"
      },
      "execution_count": 27,
      "outputs": [
        {
          "output_type": "error",
          "ename": "KeyError",
          "evalue": "\"['resignationReason'] not found in axis\"",
          "traceback": [
            "\u001b[0;31m---------------------------------------------------------------------------\u001b[0m",
            "\u001b[0;31mKeyError\u001b[0m                                  Traceback (most recent call last)",
            "\u001b[0;32m<ipython-input-27-91c3cbf74f29>\u001b[0m in \u001b[0;36m<cell line: 8>\u001b[0;34m()\u001b[0m\n\u001b[1;32m      6\u001b[0m \u001b[0;34m\u001b[0m\u001b[0m\n\u001b[1;32m      7\u001b[0m \u001b[0;31m# Eliminar la columna original 'resignationReason'\u001b[0m\u001b[0;34m\u001b[0m\u001b[0;34m\u001b[0m\u001b[0m\n\u001b[0;32m----> 8\u001b[0;31m \u001b[0mretiros_processed_df\u001b[0m\u001b[0;34m.\u001b[0m\u001b[0mdrop\u001b[0m\u001b[0;34m(\u001b[0m\u001b[0;34m'resignationReason'\u001b[0m\u001b[0;34m,\u001b[0m \u001b[0maxis\u001b[0m\u001b[0;34m=\u001b[0m\u001b[0;36m1\u001b[0m\u001b[0;34m,\u001b[0m \u001b[0minplace\u001b[0m\u001b[0;34m=\u001b[0m\u001b[0;32mTrue\u001b[0m\u001b[0;34m)\u001b[0m\u001b[0;34m\u001b[0m\u001b[0;34m\u001b[0m\u001b[0m\n\u001b[0m\u001b[1;32m      9\u001b[0m \u001b[0;34m\u001b[0m\u001b[0m\n\u001b[1;32m     10\u001b[0m \u001b[0;31m# Eliminar la columna 'Unknown' resultante de la codificación si existe\u001b[0m\u001b[0;34m\u001b[0m\u001b[0;34m\u001b[0m\u001b[0m\n",
            "\u001b[0;32m/usr/local/lib/python3.10/dist-packages/pandas/core/frame.py\u001b[0m in \u001b[0;36mdrop\u001b[0;34m(self, labels, axis, index, columns, level, inplace, errors)\u001b[0m\n\u001b[1;32m   5579\u001b[0m                 \u001b[0mweight\u001b[0m  \u001b[0;36m1.0\u001b[0m     \u001b[0;36m0.8\u001b[0m\u001b[0;34m\u001b[0m\u001b[0;34m\u001b[0m\u001b[0m\n\u001b[1;32m   5580\u001b[0m         \"\"\"\n\u001b[0;32m-> 5581\u001b[0;31m         return super().drop(\n\u001b[0m\u001b[1;32m   5582\u001b[0m             \u001b[0mlabels\u001b[0m\u001b[0;34m=\u001b[0m\u001b[0mlabels\u001b[0m\u001b[0;34m,\u001b[0m\u001b[0;34m\u001b[0m\u001b[0;34m\u001b[0m\u001b[0m\n\u001b[1;32m   5583\u001b[0m             \u001b[0maxis\u001b[0m\u001b[0;34m=\u001b[0m\u001b[0maxis\u001b[0m\u001b[0;34m,\u001b[0m\u001b[0;34m\u001b[0m\u001b[0;34m\u001b[0m\u001b[0m\n",
            "\u001b[0;32m/usr/local/lib/python3.10/dist-packages/pandas/core/generic.py\u001b[0m in \u001b[0;36mdrop\u001b[0;34m(self, labels, axis, index, columns, level, inplace, errors)\u001b[0m\n\u001b[1;32m   4786\u001b[0m         \u001b[0;32mfor\u001b[0m \u001b[0maxis\u001b[0m\u001b[0;34m,\u001b[0m \u001b[0mlabels\u001b[0m \u001b[0;32min\u001b[0m \u001b[0maxes\u001b[0m\u001b[0;34m.\u001b[0m\u001b[0mitems\u001b[0m\u001b[0;34m(\u001b[0m\u001b[0;34m)\u001b[0m\u001b[0;34m:\u001b[0m\u001b[0;34m\u001b[0m\u001b[0;34m\u001b[0m\u001b[0m\n\u001b[1;32m   4787\u001b[0m             \u001b[0;32mif\u001b[0m \u001b[0mlabels\u001b[0m \u001b[0;32mis\u001b[0m \u001b[0;32mnot\u001b[0m \u001b[0;32mNone\u001b[0m\u001b[0;34m:\u001b[0m\u001b[0;34m\u001b[0m\u001b[0;34m\u001b[0m\u001b[0m\n\u001b[0;32m-> 4788\u001b[0;31m                 \u001b[0mobj\u001b[0m \u001b[0;34m=\u001b[0m \u001b[0mobj\u001b[0m\u001b[0;34m.\u001b[0m\u001b[0m_drop_axis\u001b[0m\u001b[0;34m(\u001b[0m\u001b[0mlabels\u001b[0m\u001b[0;34m,\u001b[0m \u001b[0maxis\u001b[0m\u001b[0;34m,\u001b[0m \u001b[0mlevel\u001b[0m\u001b[0;34m=\u001b[0m\u001b[0mlevel\u001b[0m\u001b[0;34m,\u001b[0m \u001b[0merrors\u001b[0m\u001b[0;34m=\u001b[0m\u001b[0merrors\u001b[0m\u001b[0;34m)\u001b[0m\u001b[0;34m\u001b[0m\u001b[0;34m\u001b[0m\u001b[0m\n\u001b[0m\u001b[1;32m   4789\u001b[0m \u001b[0;34m\u001b[0m\u001b[0m\n\u001b[1;32m   4790\u001b[0m         \u001b[0;32mif\u001b[0m \u001b[0minplace\u001b[0m\u001b[0;34m:\u001b[0m\u001b[0;34m\u001b[0m\u001b[0;34m\u001b[0m\u001b[0m\n",
            "\u001b[0;32m/usr/local/lib/python3.10/dist-packages/pandas/core/generic.py\u001b[0m in \u001b[0;36m_drop_axis\u001b[0;34m(self, labels, axis, level, errors, only_slice)\u001b[0m\n\u001b[1;32m   4857\u001b[0m                 \u001b[0mlabels_missing\u001b[0m \u001b[0;34m=\u001b[0m \u001b[0;34m(\u001b[0m\u001b[0maxis\u001b[0m\u001b[0;34m.\u001b[0m\u001b[0mget_indexer_for\u001b[0m\u001b[0;34m(\u001b[0m\u001b[0mlabels\u001b[0m\u001b[0;34m)\u001b[0m \u001b[0;34m==\u001b[0m \u001b[0;34m-\u001b[0m\u001b[0;36m1\u001b[0m\u001b[0;34m)\u001b[0m\u001b[0;34m.\u001b[0m\u001b[0many\u001b[0m\u001b[0;34m(\u001b[0m\u001b[0;34m)\u001b[0m\u001b[0;34m\u001b[0m\u001b[0;34m\u001b[0m\u001b[0m\n\u001b[1;32m   4858\u001b[0m                 \u001b[0;32mif\u001b[0m \u001b[0merrors\u001b[0m \u001b[0;34m==\u001b[0m \u001b[0;34m\"raise\"\u001b[0m \u001b[0;32mand\u001b[0m \u001b[0mlabels_missing\u001b[0m\u001b[0;34m:\u001b[0m\u001b[0;34m\u001b[0m\u001b[0;34m\u001b[0m\u001b[0m\n\u001b[0;32m-> 4859\u001b[0;31m                     \u001b[0;32mraise\u001b[0m \u001b[0mKeyError\u001b[0m\u001b[0;34m(\u001b[0m\u001b[0;34mf\"{labels} not found in axis\"\u001b[0m\u001b[0;34m)\u001b[0m\u001b[0;34m\u001b[0m\u001b[0;34m\u001b[0m\u001b[0m\n\u001b[0m\u001b[1;32m   4860\u001b[0m \u001b[0;34m\u001b[0m\u001b[0m\n\u001b[1;32m   4861\u001b[0m             \u001b[0;32mif\u001b[0m \u001b[0misinstance\u001b[0m\u001b[0;34m(\u001b[0m\u001b[0mmask\u001b[0m\u001b[0;34m.\u001b[0m\u001b[0mdtype\u001b[0m\u001b[0;34m,\u001b[0m \u001b[0mExtensionDtype\u001b[0m\u001b[0;34m)\u001b[0m\u001b[0;34m:\u001b[0m\u001b[0;34m\u001b[0m\u001b[0;34m\u001b[0m\u001b[0m\n",
            "\u001b[0;31mKeyError\u001b[0m: \"['resignationReason'] not found in axis\""
          ]
        }
      ]
    },
    {
      "cell_type": "code",
      "source": [
        "# Convertir valores True/False a 1/0 en las columnas especificadas\n",
        "columns_to_convert = ['resignationReason_Others', 'resignationReason_Salary', 'resignationReason_Stress']\n",
        "retiros_processed_df[columns_to_convert] = retiros_processed_df[columns_to_convert].astype(int)\n",
        "\n",
        "# Imprimir el DataFrame procesado para verificar\n",
        "print(retiros_processed_df.head())"
      ],
      "metadata": {
        "colab": {
          "base_uri": "https://localhost:8080/"
        },
        "id": "jGb1wp7HRoh6",
        "outputId": "582e83e2-2e3e-4332-827a-330a7cc5537d"
      },
      "execution_count": 32,
      "outputs": [
        {
          "output_type": "stream",
          "name": "stdout",
          "text": [
            "   index  EmployeeID Attrition       retirementDate  retirementType_Fired  \\\n",
            "0      0           2       Yes  2016-10-15 00:00:00                     0   \n",
            "1      1           7       Yes  2016-07-20 00:00:00                     0   \n",
            "2      2          14       Yes  2016-11-08 00:00:00                     0   \n",
            "3      3          29       Yes  2016-10-15 00:00:00                     0   \n",
            "4      4          31       Yes  2016-02-08 00:00:00                     0   \n",
            "\n",
            "   retirementType_Resignation  resignationReason_Others  \\\n",
            "0                           1                         1   \n",
            "1                           1                         0   \n",
            "2                           1                         1   \n",
            "3                           1                         1   \n",
            "4                           1                         0   \n",
            "\n",
            "   resignationReason_Salary  resignationReason_Stress  \\\n",
            "0                         0                         0   \n",
            "1                         0                         1   \n",
            "2                         0                         0   \n",
            "3                         0                         0   \n",
            "4                         1                         0   \n",
            "\n",
            "   resignationReason_Unknown  \n",
            "0                          0  \n",
            "1                          0  \n",
            "2                          0  \n",
            "3                          0  \n",
            "4                          0  \n"
          ]
        },
        {
          "output_type": "stream",
          "name": "stderr",
          "text": [
            "<ipython-input-32-835aef14ce2e>:3: SettingWithCopyWarning: \n",
            "A value is trying to be set on a copy of a slice from a DataFrame.\n",
            "Try using .loc[row_indexer,col_indexer] = value instead\n",
            "\n",
            "See the caveats in the documentation: https://pandas.pydata.org/pandas-docs/stable/user_guide/indexing.html#returning-a-view-versus-a-copy\n",
            "  retiros_processed_df[columns_to_convert] = retiros_processed_df[columns_to_convert].astype(int)\n"
          ]
        }
      ]
    },
    {
      "cell_type": "code",
      "source": [
        "# Resumen de la columna 'Attrition'\n",
        "attrition_summary = retiros_processed_df['Attrition'].value_counts()\n",
        "total_count = len(retiros_processed_df)\n",
        "\n",
        "# Imprimir el resumen\n",
        "print(\"Resumen de la variable 'Attrition':\")\n",
        "print(attrition_summary)\n",
        "print(f\"\\nNúmero total de registros en 'Attrition': {total_count}\")\n",
        "print(f\"Proporción de cada categoría en 'Attrition':\")\n",
        "print(attrition_summary / total_count)"
      ],
      "metadata": {
        "colab": {
          "base_uri": "https://localhost:8080/"
        },
        "id": "rrNwOasyTuaH",
        "outputId": "8cdd3a38-f6ca-4d04-8a2f-e8be809ee704"
      },
      "execution_count": 33,
      "outputs": [
        {
          "output_type": "stream",
          "name": "stdout",
          "text": [
            "Resumen de la variable 'Attrition':\n",
            "Attrition\n",
            "Yes    650\n",
            "Name: count, dtype: int64\n",
            "\n",
            "Número total de registros en 'Attrition': 650\n",
            "Proporción de cada categoría en 'Attrition':\n",
            "Attrition\n",
            "Yes    1.0\n",
            "Name: count, dtype: float64\n"
          ]
        }
      ]
    },
    {
      "cell_type": "code",
      "source": [
        "# Eliminar la columna 'Attrition' del DataFrame procesado\n",
        "retiros_processed_df.drop('Attrition', axis=1, inplace=True)\n",
        "\n",
        "# Imprimir el DataFrame procesado para verificar los cambios\n",
        "print(retiros_processed_df.head())\n",
        "\n",
        "# Mostrar el tamaño del DataFrame procesado\n",
        "print(f\"\\nNúmero total de filas en el DataFrame procesado: {len(retiros_processed_df)}\")"
      ],
      "metadata": {
        "colab": {
          "base_uri": "https://localhost:8080/"
        },
        "id": "eggqC7QJUcTE",
        "outputId": "a6d540a7-b221-4723-cfe8-53a641535f61"
      },
      "execution_count": 35,
      "outputs": [
        {
          "output_type": "stream",
          "name": "stdout",
          "text": [
            "   index  EmployeeID       retirementDate  retirementType_Fired  \\\n",
            "0      0           2  2016-10-15 00:00:00                     0   \n",
            "1      1           7  2016-07-20 00:00:00                     0   \n",
            "2      2          14  2016-11-08 00:00:00                     0   \n",
            "3      3          29  2016-10-15 00:00:00                     0   \n",
            "4      4          31  2016-02-08 00:00:00                     0   \n",
            "\n",
            "   retirementType_Resignation  resignationReason_Others  \\\n",
            "0                           1                         1   \n",
            "1                           1                         0   \n",
            "2                           1                         1   \n",
            "3                           1                         1   \n",
            "4                           1                         0   \n",
            "\n",
            "   resignationReason_Salary  resignationReason_Stress  \\\n",
            "0                         0                         0   \n",
            "1                         0                         1   \n",
            "2                         0                         0   \n",
            "3                         0                         0   \n",
            "4                         1                         0   \n",
            "\n",
            "   resignationReason_Unknown  \n",
            "0                          0  \n",
            "1                          0  \n",
            "2                          0  \n",
            "3                          0  \n",
            "4                          0  \n",
            "\n",
            "Número total de filas en el DataFrame procesado: 650\n"
          ]
        },
        {
          "output_type": "stream",
          "name": "stderr",
          "text": [
            "<ipython-input-35-bf67eeb8b32c>:2: SettingWithCopyWarning: \n",
            "A value is trying to be set on a copy of a slice from a DataFrame\n",
            "\n",
            "See the caveats in the documentation: https://pandas.pydata.org/pandas-docs/stable/user_guide/indexing.html#returning-a-view-versus-a-copy\n",
            "  retiros_processed_df.drop('Attrition', axis=1, inplace=True)\n"
          ]
        }
      ]
    }
  ]
}